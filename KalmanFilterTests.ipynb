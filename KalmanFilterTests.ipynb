{
 "cells": [
  {
   "cell_type": "markdown",
   "id": "657542db699cd600",
   "metadata": {
    "collapsed": false,
    "jupyter": {
     "outputs_hidden": false
    }
   },
   "source": [
    "<h1>Kalman Filter Experiments</h1>"
   ]
  },
  {
   "cell_type": "code",
   "execution_count": 42,
   "id": "31cc9aea-bf37-4db2-ada1-5066d8ab2681",
   "metadata": {
    "ExecuteTime": {
     "end_time": "2023-09-29T17:27:45.454023100Z",
     "start_time": "2023-09-29T17:27:45.389965400Z"
    }
   },
   "outputs": [
    {
     "data": {
      "text/html": [
       "<style>\n",
       "        .bk-notebook-logo {\n",
       "            display: block;\n",
       "            width: 20px;\n",
       "            height: 20px;\n",
       "            background-image: url(data:image/png;base64,iVBORw0KGgoAAAANSUhEUgAAABQAAAAUCAYAAACNiR0NAAAABHNCSVQICAgIfAhkiAAAAAlwSFlzAAALEgAACxIB0t1+/AAAABx0RVh0U29mdHdhcmUAQWRvYmUgRmlyZXdvcmtzIENTNui8sowAAAOkSURBVDiNjZRtaJVlGMd/1/08zzln5zjP1LWcU9N0NkN8m2CYjpgQYQXqSs0I84OLIC0hkEKoPtiH3gmKoiJDU7QpLgoLjLIQCpEsNJ1vqUOdO7ppbuec5+V+rj4ctwzd8IIbbi6u+8f1539dt3A78eXC7QizUF7gyV1fD1Yqg4JWz84yffhm0qkFqBogB9rM8tZdtwVsPUhWhGcFJngGeWrPzHm5oaMmkfEg1usvLFyc8jLRqDOMru7AyC8saQr7GG7f5fvDeH7Ej8CM66nIF+8yngt6HWaKh7k49Soy9nXurCi1o3qUbS3zWfrYeQDTB/Qj6kX6Ybhw4B+bOYoLKCC9H3Nu/leUTZ1JdRWkkn2ldcCamzrcf47KKXdAJllSlxAOkRgyHsGC/zRday5Qld9DyoM4/q/rUoy/CXh3jzOu3bHUVZeU+DEn8FInkPBFlu3+nW3Nw0mk6vCDiWg8CeJaxEwuHS3+z5RgY+YBR6V1Z1nxSOfoaPa4LASWxxdNp+VWTk7+4vzaou8v8PN+xo+KY2xsw6une2frhw05CTYOmQvsEhjhWjn0bmXPjpE1+kplmmkP3suftwTubK9Vq22qKmrBhpY4jvd5afdRA3wGjFAgcnTK2s4hY0/GPNIb0nErGMCRxWOOX64Z8RAC4oCXdklmEvcL8o0BfkNK4lUg9HTl+oPlQxdNo3Mg4Nv175e/1LDGzZen30MEjRUtmXSfiTVu1kK8W4txyV6BMKlbgk3lMwYCiusNy9fVfvvwMxv8Ynl6vxoByANLTWplvuj/nF9m2+PDtt1eiHPBr1oIfhCChQMBw6Aw0UulqTKZdfVvfG7VcfIqLG9bcldL/+pdWTLxLUy8Qq38heUIjh4XlzZxzQm19lLFlr8vdQ97rjZVOLf8nclzckbcD4wxXMidpX30sFd37Fv/GtwwhzhxGVAprjbg0gCAEeIgwCZyTV2Z1REEW8O4py0wsjeloKoMr6iCY6dP92H6Vw/oTyICIthibxjm/DfN9lVz8IqtqKYLUXfoKVMVQVVJOElGjrnnUt9T9wbgp8AyYKaGlqingHZU/uG2NTZSVqwHQTWkx9hxjkpWDaCg6Ckj5qebgBVbT3V3NNXMSiWSDdGV3hrtzla7J+duwPOToIg42ChPQOQjspnSlp1V+Gjdged7+8UN5CRAV7a5EdFNwCjEaBR27b3W890TE7g24NAP/mMDXRWrGoFPQI9ls/MWO2dWFAar/xcOIImbbpA3zgAAAABJRU5ErkJggg==);\n",
       "        }\n",
       "    </style>\n",
       "    <div>\n",
       "        <a href=\"https://bokeh.org\" target=\"_blank\" class=\"bk-notebook-logo\"></a>\n",
       "        <span id=\"f5cca5c1-25cb-4ee6-8d26-d9a7159a4310\">Loading BokehJS ...</span>\n",
       "    </div>\n"
      ]
     },
     "metadata": {},
     "output_type": "display_data"
    },
    {
     "data": {
      "application/javascript": [
       "(function(root) {\n",
       "  function now() {\n",
       "    return new Date();\n",
       "  }\n",
       "\n",
       "  const force = true;\n",
       "\n",
       "  if (typeof root._bokeh_onload_callbacks === \"undefined\" || force === true) {\n",
       "    root._bokeh_onload_callbacks = [];\n",
       "    root._bokeh_is_loading = undefined;\n",
       "  }\n",
       "\n",
       "const JS_MIME_TYPE = 'application/javascript';\n",
       "  const HTML_MIME_TYPE = 'text/html';\n",
       "  const EXEC_MIME_TYPE = 'application/vnd.bokehjs_exec.v0+json';\n",
       "  const CLASS_NAME = 'output_bokeh rendered_html';\n",
       "\n",
       "  /**\n",
       "   * Render data to the DOM node\n",
       "   */\n",
       "  function render(props, node) {\n",
       "    const script = document.createElement(\"script\");\n",
       "    node.appendChild(script);\n",
       "  }\n",
       "\n",
       "  /**\n",
       "   * Handle when an output is cleared or removed\n",
       "   */\n",
       "  function handleClearOutput(event, handle) {\n",
       "    const cell = handle.cell;\n",
       "\n",
       "    const id = cell.output_area._bokeh_element_id;\n",
       "    const server_id = cell.output_area._bokeh_server_id;\n",
       "    // Clean up Bokeh references\n",
       "    if (id != null && id in Bokeh.index) {\n",
       "      Bokeh.index[id].model.document.clear();\n",
       "      delete Bokeh.index[id];\n",
       "    }\n",
       "\n",
       "    if (server_id !== undefined) {\n",
       "      // Clean up Bokeh references\n",
       "      const cmd_clean = \"from bokeh.io.state import curstate; print(curstate().uuid_to_server['\" + server_id + \"'].get_sessions()[0].document.roots[0]._id)\";\n",
       "      cell.notebook.kernel.execute(cmd_clean, {\n",
       "        iopub: {\n",
       "          output: function(msg) {\n",
       "            const id = msg.content.text.trim();\n",
       "            if (id in Bokeh.index) {\n",
       "              Bokeh.index[id].model.document.clear();\n",
       "              delete Bokeh.index[id];\n",
       "            }\n",
       "          }\n",
       "        }\n",
       "      });\n",
       "      // Destroy server and session\n",
       "      const cmd_destroy = \"import bokeh.io.notebook as ion; ion.destroy_server('\" + server_id + \"')\";\n",
       "      cell.notebook.kernel.execute(cmd_destroy);\n",
       "    }\n",
       "  }\n",
       "\n",
       "  /**\n",
       "   * Handle when a new output is added\n",
       "   */\n",
       "  function handleAddOutput(event, handle) {\n",
       "    const output_area = handle.output_area;\n",
       "    const output = handle.output;\n",
       "\n",
       "    // limit handleAddOutput to display_data with EXEC_MIME_TYPE content only\n",
       "    if ((output.output_type != \"display_data\") || (!Object.prototype.hasOwnProperty.call(output.data, EXEC_MIME_TYPE))) {\n",
       "      return\n",
       "    }\n",
       "\n",
       "    const toinsert = output_area.element.find(\".\" + CLASS_NAME.split(' ')[0]);\n",
       "\n",
       "    if (output.metadata[EXEC_MIME_TYPE][\"id\"] !== undefined) {\n",
       "      toinsert[toinsert.length - 1].firstChild.textContent = output.data[JS_MIME_TYPE];\n",
       "      // store reference to embed id on output_area\n",
       "      output_area._bokeh_element_id = output.metadata[EXEC_MIME_TYPE][\"id\"];\n",
       "    }\n",
       "    if (output.metadata[EXEC_MIME_TYPE][\"server_id\"] !== undefined) {\n",
       "      const bk_div = document.createElement(\"div\");\n",
       "      bk_div.innerHTML = output.data[HTML_MIME_TYPE];\n",
       "      const script_attrs = bk_div.children[0].attributes;\n",
       "      for (let i = 0; i < script_attrs.length; i++) {\n",
       "        toinsert[toinsert.length - 1].firstChild.setAttribute(script_attrs[i].name, script_attrs[i].value);\n",
       "        toinsert[toinsert.length - 1].firstChild.textContent = bk_div.children[0].textContent\n",
       "      }\n",
       "      // store reference to server id on output_area\n",
       "      output_area._bokeh_server_id = output.metadata[EXEC_MIME_TYPE][\"server_id\"];\n",
       "    }\n",
       "  }\n",
       "\n",
       "  function register_renderer(events, OutputArea) {\n",
       "\n",
       "    function append_mime(data, metadata, element) {\n",
       "      // create a DOM node to render to\n",
       "      const toinsert = this.create_output_subarea(\n",
       "        metadata,\n",
       "        CLASS_NAME,\n",
       "        EXEC_MIME_TYPE\n",
       "      );\n",
       "      this.keyboard_manager.register_events(toinsert);\n",
       "      // Render to node\n",
       "      const props = {data: data, metadata: metadata[EXEC_MIME_TYPE]};\n",
       "      render(props, toinsert[toinsert.length - 1]);\n",
       "      element.append(toinsert);\n",
       "      return toinsert\n",
       "    }\n",
       "\n",
       "    /* Handle when an output is cleared or removed */\n",
       "    events.on('clear_output.CodeCell', handleClearOutput);\n",
       "    events.on('delete.Cell', handleClearOutput);\n",
       "\n",
       "    /* Handle when a new output is added */\n",
       "    events.on('output_added.OutputArea', handleAddOutput);\n",
       "\n",
       "    /**\n",
       "     * Register the mime type and append_mime function with output_area\n",
       "     */\n",
       "    OutputArea.prototype.register_mime_type(EXEC_MIME_TYPE, append_mime, {\n",
       "      /* Is output safe? */\n",
       "      safe: true,\n",
       "      /* Index of renderer in `output_area.display_order` */\n",
       "      index: 0\n",
       "    });\n",
       "  }\n",
       "\n",
       "  // register the mime type if in Jupyter Notebook environment and previously unregistered\n",
       "  if (root.Jupyter !== undefined) {\n",
       "    const events = require('base/js/events');\n",
       "    const OutputArea = require('notebook/js/outputarea').OutputArea;\n",
       "\n",
       "    if (OutputArea.prototype.mime_types().indexOf(EXEC_MIME_TYPE) == -1) {\n",
       "      register_renderer(events, OutputArea);\n",
       "    }\n",
       "  }\n",
       "  if (typeof (root._bokeh_timeout) === \"undefined\" || force === true) {\n",
       "    root._bokeh_timeout = Date.now() + 5000;\n",
       "    root._bokeh_failed_load = false;\n",
       "  }\n",
       "\n",
       "  const NB_LOAD_WARNING = {'data': {'text/html':\n",
       "     \"<div style='background-color: #fdd'>\\n\"+\n",
       "     \"<p>\\n\"+\n",
       "     \"BokehJS does not appear to have successfully loaded. If loading BokehJS from CDN, this \\n\"+\n",
       "     \"may be due to a slow or bad network connection. Possible fixes:\\n\"+\n",
       "     \"</p>\\n\"+\n",
       "     \"<ul>\\n\"+\n",
       "     \"<li>re-rerun `output_notebook()` to attempt to load from CDN again, or</li>\\n\"+\n",
       "     \"<li>use INLINE resources instead, as so:</li>\\n\"+\n",
       "     \"</ul>\\n\"+\n",
       "     \"<code>\\n\"+\n",
       "     \"from bokeh.resources import INLINE\\n\"+\n",
       "     \"output_notebook(resources=INLINE)\\n\"+\n",
       "     \"</code>\\n\"+\n",
       "     \"</div>\"}};\n",
       "\n",
       "  function display_loaded() {\n",
       "    const el = document.getElementById(\"f5cca5c1-25cb-4ee6-8d26-d9a7159a4310\");\n",
       "    if (el != null) {\n",
       "      el.textContent = \"BokehJS is loading...\";\n",
       "    }\n",
       "    if (root.Bokeh !== undefined) {\n",
       "      if (el != null) {\n",
       "        el.textContent = \"BokehJS \" + root.Bokeh.version + \" successfully loaded.\";\n",
       "      }\n",
       "    } else if (Date.now() < root._bokeh_timeout) {\n",
       "      setTimeout(display_loaded, 100)\n",
       "    }\n",
       "  }\n",
       "\n",
       "  function run_callbacks() {\n",
       "    try {\n",
       "      root._bokeh_onload_callbacks.forEach(function(callback) {\n",
       "        if (callback != null)\n",
       "          callback();\n",
       "      });\n",
       "    } finally {\n",
       "      delete root._bokeh_onload_callbacks\n",
       "    }\n",
       "    console.debug(\"Bokeh: all callbacks have finished\");\n",
       "  }\n",
       "\n",
       "  function load_libs(css_urls, js_urls, callback) {\n",
       "    if (css_urls == null) css_urls = [];\n",
       "    if (js_urls == null) js_urls = [];\n",
       "\n",
       "    root._bokeh_onload_callbacks.push(callback);\n",
       "    if (root._bokeh_is_loading > 0) {\n",
       "      console.debug(\"Bokeh: BokehJS is being loaded, scheduling callback at\", now());\n",
       "      return null;\n",
       "    }\n",
       "    if (js_urls == null || js_urls.length === 0) {\n",
       "      run_callbacks();\n",
       "      return null;\n",
       "    }\n",
       "    console.debug(\"Bokeh: BokehJS not loaded, scheduling load and callback at\", now());\n",
       "    root._bokeh_is_loading = css_urls.length + js_urls.length;\n",
       "\n",
       "    function on_load() {\n",
       "      root._bokeh_is_loading--;\n",
       "      if (root._bokeh_is_loading === 0) {\n",
       "        console.debug(\"Bokeh: all BokehJS libraries/stylesheets loaded\");\n",
       "        run_callbacks()\n",
       "      }\n",
       "    }\n",
       "\n",
       "    function on_error(url) {\n",
       "      console.error(\"failed to load \" + url);\n",
       "    }\n",
       "\n",
       "    for (let i = 0; i < css_urls.length; i++) {\n",
       "      const url = css_urls[i];\n",
       "      const element = document.createElement(\"link\");\n",
       "      element.onload = on_load;\n",
       "      element.onerror = on_error.bind(null, url);\n",
       "      element.rel = \"stylesheet\";\n",
       "      element.type = \"text/css\";\n",
       "      element.href = url;\n",
       "      console.debug(\"Bokeh: injecting link tag for BokehJS stylesheet: \", url);\n",
       "      document.body.appendChild(element);\n",
       "    }\n",
       "\n",
       "    for (let i = 0; i < js_urls.length; i++) {\n",
       "      const url = js_urls[i];\n",
       "      const element = document.createElement('script');\n",
       "      element.onload = on_load;\n",
       "      element.onerror = on_error.bind(null, url);\n",
       "      element.async = false;\n",
       "      element.src = url;\n",
       "      console.debug(\"Bokeh: injecting script tag for BokehJS library: \", url);\n",
       "      document.head.appendChild(element);\n",
       "    }\n",
       "  };\n",
       "\n",
       "  function inject_raw_css(css) {\n",
       "    const element = document.createElement(\"style\");\n",
       "    element.appendChild(document.createTextNode(css));\n",
       "    document.body.appendChild(element);\n",
       "  }\n",
       "\n",
       "  const js_urls = [\"https://cdn.bokeh.org/bokeh/release/bokeh-3.2.2.min.js\", \"https://cdn.bokeh.org/bokeh/release/bokeh-gl-3.2.2.min.js\", \"https://cdn.bokeh.org/bokeh/release/bokeh-widgets-3.2.2.min.js\", \"https://cdn.bokeh.org/bokeh/release/bokeh-tables-3.2.2.min.js\", \"https://cdn.bokeh.org/bokeh/release/bokeh-mathjax-3.2.2.min.js\"];\n",
       "  const css_urls = [];\n",
       "\n",
       "  const inline_js = [    function(Bokeh) {\n",
       "      Bokeh.set_log_level(\"info\");\n",
       "    },\n",
       "function(Bokeh) {\n",
       "    }\n",
       "  ];\n",
       "\n",
       "  function run_inline_js() {\n",
       "    if (root.Bokeh !== undefined || force === true) {\n",
       "          for (let i = 0; i < inline_js.length; i++) {\n",
       "      inline_js[i].call(root, root.Bokeh);\n",
       "    }\n",
       "if (force === true) {\n",
       "        display_loaded();\n",
       "      }} else if (Date.now() < root._bokeh_timeout) {\n",
       "      setTimeout(run_inline_js, 100);\n",
       "    } else if (!root._bokeh_failed_load) {\n",
       "      console.log(\"Bokeh: BokehJS failed to load within specified timeout.\");\n",
       "      root._bokeh_failed_load = true;\n",
       "    } else if (force !== true) {\n",
       "      const cell = $(document.getElementById(\"f5cca5c1-25cb-4ee6-8d26-d9a7159a4310\")).parents('.cell').data().cell;\n",
       "      cell.output_area.append_execute_result(NB_LOAD_WARNING)\n",
       "    }\n",
       "  }\n",
       "\n",
       "  if (root._bokeh_is_loading === 0) {\n",
       "    console.debug(\"Bokeh: BokehJS loaded, going straight to plotting\");\n",
       "    run_inline_js();\n",
       "  } else {\n",
       "    load_libs(css_urls, js_urls, function() {\n",
       "      console.debug(\"Bokeh: BokehJS plotting callback run at\", now());\n",
       "      run_inline_js();\n",
       "    });\n",
       "  }\n",
       "}(window));"
      ],
      "application/vnd.bokehjs_load.v0+json": "(function(root) {\n  function now() {\n    return new Date();\n  }\n\n  const force = true;\n\n  if (typeof root._bokeh_onload_callbacks === \"undefined\" || force === true) {\n    root._bokeh_onload_callbacks = [];\n    root._bokeh_is_loading = undefined;\n  }\n\n\n  if (typeof (root._bokeh_timeout) === \"undefined\" || force === true) {\n    root._bokeh_timeout = Date.now() + 5000;\n    root._bokeh_failed_load = false;\n  }\n\n  const NB_LOAD_WARNING = {'data': {'text/html':\n     \"<div style='background-color: #fdd'>\\n\"+\n     \"<p>\\n\"+\n     \"BokehJS does not appear to have successfully loaded. If loading BokehJS from CDN, this \\n\"+\n     \"may be due to a slow or bad network connection. Possible fixes:\\n\"+\n     \"</p>\\n\"+\n     \"<ul>\\n\"+\n     \"<li>re-rerun `output_notebook()` to attempt to load from CDN again, or</li>\\n\"+\n     \"<li>use INLINE resources instead, as so:</li>\\n\"+\n     \"</ul>\\n\"+\n     \"<code>\\n\"+\n     \"from bokeh.resources import INLINE\\n\"+\n     \"output_notebook(resources=INLINE)\\n\"+\n     \"</code>\\n\"+\n     \"</div>\"}};\n\n  function display_loaded() {\n    const el = document.getElementById(\"f5cca5c1-25cb-4ee6-8d26-d9a7159a4310\");\n    if (el != null) {\n      el.textContent = \"BokehJS is loading...\";\n    }\n    if (root.Bokeh !== undefined) {\n      if (el != null) {\n        el.textContent = \"BokehJS \" + root.Bokeh.version + \" successfully loaded.\";\n      }\n    } else if (Date.now() < root._bokeh_timeout) {\n      setTimeout(display_loaded, 100)\n    }\n  }\n\n  function run_callbacks() {\n    try {\n      root._bokeh_onload_callbacks.forEach(function(callback) {\n        if (callback != null)\n          callback();\n      });\n    } finally {\n      delete root._bokeh_onload_callbacks\n    }\n    console.debug(\"Bokeh: all callbacks have finished\");\n  }\n\n  function load_libs(css_urls, js_urls, callback) {\n    if (css_urls == null) css_urls = [];\n    if (js_urls == null) js_urls = [];\n\n    root._bokeh_onload_callbacks.push(callback);\n    if (root._bokeh_is_loading > 0) {\n      console.debug(\"Bokeh: BokehJS is being loaded, scheduling callback at\", now());\n      return null;\n    }\n    if (js_urls == null || js_urls.length === 0) {\n      run_callbacks();\n      return null;\n    }\n    console.debug(\"Bokeh: BokehJS not loaded, scheduling load and callback at\", now());\n    root._bokeh_is_loading = css_urls.length + js_urls.length;\n\n    function on_load() {\n      root._bokeh_is_loading--;\n      if (root._bokeh_is_loading === 0) {\n        console.debug(\"Bokeh: all BokehJS libraries/stylesheets loaded\");\n        run_callbacks()\n      }\n    }\n\n    function on_error(url) {\n      console.error(\"failed to load \" + url);\n    }\n\n    for (let i = 0; i < css_urls.length; i++) {\n      const url = css_urls[i];\n      const element = document.createElement(\"link\");\n      element.onload = on_load;\n      element.onerror = on_error.bind(null, url);\n      element.rel = \"stylesheet\";\n      element.type = \"text/css\";\n      element.href = url;\n      console.debug(\"Bokeh: injecting link tag for BokehJS stylesheet: \", url);\n      document.body.appendChild(element);\n    }\n\n    for (let i = 0; i < js_urls.length; i++) {\n      const url = js_urls[i];\n      const element = document.createElement('script');\n      element.onload = on_load;\n      element.onerror = on_error.bind(null, url);\n      element.async = false;\n      element.src = url;\n      console.debug(\"Bokeh: injecting script tag for BokehJS library: \", url);\n      document.head.appendChild(element);\n    }\n  };\n\n  function inject_raw_css(css) {\n    const element = document.createElement(\"style\");\n    element.appendChild(document.createTextNode(css));\n    document.body.appendChild(element);\n  }\n\n  const js_urls = [\"https://cdn.bokeh.org/bokeh/release/bokeh-3.2.2.min.js\", \"https://cdn.bokeh.org/bokeh/release/bokeh-gl-3.2.2.min.js\", \"https://cdn.bokeh.org/bokeh/release/bokeh-widgets-3.2.2.min.js\", \"https://cdn.bokeh.org/bokeh/release/bokeh-tables-3.2.2.min.js\", \"https://cdn.bokeh.org/bokeh/release/bokeh-mathjax-3.2.2.min.js\"];\n  const css_urls = [];\n\n  const inline_js = [    function(Bokeh) {\n      Bokeh.set_log_level(\"info\");\n    },\nfunction(Bokeh) {\n    }\n  ];\n\n  function run_inline_js() {\n    if (root.Bokeh !== undefined || force === true) {\n          for (let i = 0; i < inline_js.length; i++) {\n      inline_js[i].call(root, root.Bokeh);\n    }\nif (force === true) {\n        display_loaded();\n      }} else if (Date.now() < root._bokeh_timeout) {\n      setTimeout(run_inline_js, 100);\n    } else if (!root._bokeh_failed_load) {\n      console.log(\"Bokeh: BokehJS failed to load within specified timeout.\");\n      root._bokeh_failed_load = true;\n    } else if (force !== true) {\n      const cell = $(document.getElementById(\"f5cca5c1-25cb-4ee6-8d26-d9a7159a4310\")).parents('.cell').data().cell;\n      cell.output_area.append_execute_result(NB_LOAD_WARNING)\n    }\n  }\n\n  if (root._bokeh_is_loading === 0) {\n    console.debug(\"Bokeh: BokehJS loaded, going straight to plotting\");\n    run_inline_js();\n  } else {\n    load_libs(css_urls, js_urls, function() {\n      console.debug(\"Bokeh: BokehJS plotting callback run at\", now());\n      run_inline_js();\n    });\n  }\n}(window));"
     },
     "metadata": {},
     "output_type": "display_data"
    }
   ],
   "source": [
    "import numpy as np\n",
    "from bokeh.plotting import figure, show\n",
    "from bokeh.io import output_notebook\n",
    "\n",
    "output_notebook()"
   ]
  },
  {
   "cell_type": "markdown",
   "id": "5e276254-6d82-4580-9c54-15d22e6b55a6",
   "metadata": {},
   "source": [
    "<h2>Creating the data</h2>\n",
    "\n",
    "First of all a dataset has to be created. Below a dataset was constructed where a vehicle drives a simple track. The driven track and the development of the x and y coordinate are shown."
   ]
  },
  {
   "cell_type": "code",
   "execution_count": 43,
   "id": "8cea408b-5ae9-4069-b7c6-0941ca78299b",
   "metadata": {
    "ExecuteTime": {
     "end_time": "2023-09-29T17:27:45.823359100Z",
     "start_time": "2023-09-29T17:27:45.457026500Z"
    }
   },
   "outputs": [
    {
     "data": {
      "text/html": [
       "\n",
       "  <div id=\"c09d0543-2b2b-4cf3-9266-2d1ee546b9e2\" data-root-id=\"p2852\" style=\"display: contents;\"></div>\n"
      ]
     },
     "metadata": {},
     "output_type": "display_data"
    },
    {
     "data": {
      "application/javascript": [
       "(function(root) {\n",
       "  function embed_document(root) {\n",
       "  const docs_json = {\"e6ac0548-076c-490e-bc12-9bd026b4995e\":{\"version\":\"3.2.2\",\"title\":\"Bokeh Application\",\"roots\":[{\"type\":\"object\",\"name\":\"Figure\",\"id\":\"p2852\",\"attributes\":{\"x_range\":{\"type\":\"object\",\"name\":\"DataRange1d\",\"id\":\"p2853\"},\"y_range\":{\"type\":\"object\",\"name\":\"DataRange1d\",\"id\":\"p2854\"},\"x_scale\":{\"type\":\"object\",\"name\":\"LinearScale\",\"id\":\"p2862\"},\"y_scale\":{\"type\":\"object\",\"name\":\"LinearScale\",\"id\":\"p2863\"},\"title\":{\"type\":\"object\",\"name\":\"Title\",\"id\":\"p2855\",\"attributes\":{\"text\":\"Ground Truth Data\"}},\"renderers\":[{\"type\":\"object\",\"name\":\"GlyphRenderer\",\"id\":\"p2887\",\"attributes\":{\"data_source\":{\"type\":\"object\",\"name\":\"ColumnDataSource\",\"id\":\"p2881\",\"attributes\":{\"selected\":{\"type\":\"object\",\"name\":\"Selection\",\"id\":\"p2882\",\"attributes\":{\"indices\":[],\"line_indices\":[]}},\"selection_policy\":{\"type\":\"object\",\"name\":\"UnionRenderers\",\"id\":\"p2883\"},\"data\":{\"type\":\"map\",\"entries\":[[\"x\",{\"type\":\"ndarray\",\"array\":{\"type\":\"bytes\",\"data\":\"AAAAAAEAAAADAAAABgAAAAkAAAANAAAADwAAABEAAAATAAAAFAAAABYAAAAYAAAAGQAAABoAAAAaAAAAGwAAABwAAAAdAAAAHAAAABsAAAAaAAAAGgAAABsAAAAcAAAAHQAAACAAAAAjAAAAJgAAACgAAAApAAAAKgAAAA==\"},\"shape\":[31],\"dtype\":\"int32\",\"order\":\"little\"}],[\"y\",{\"type\":\"ndarray\",\"array\":{\"type\":\"bytes\",\"data\":\"AAAAAAAAAAAAAAAAAAAAAAEAAAADAAAABAAAAAYAAAAHAAAABwAAAAcAAAAGAAAABQAAAAUAAAAFAAAABQAAAAUAAAAGAAAABwAAAAkAAAAKAAAADAAAAA0AAAAOAAAAEQAAABMAAAAUAAAAFAAAABMAAAASAAAAEAAAAA==\"},\"shape\":[31],\"dtype\":\"int32\",\"order\":\"little\"}]]}}},\"view\":{\"type\":\"object\",\"name\":\"CDSView\",\"id\":\"p2888\",\"attributes\":{\"filter\":{\"type\":\"object\",\"name\":\"AllIndices\",\"id\":\"p2889\"}}},\"glyph\":{\"type\":\"object\",\"name\":\"Line\",\"id\":\"p2884\",\"attributes\":{\"x\":{\"type\":\"field\",\"field\":\"x\"},\"y\":{\"type\":\"field\",\"field\":\"y\"},\"line_color\":\"red\",\"line_width\":2}},\"nonselection_glyph\":{\"type\":\"object\",\"name\":\"Line\",\"id\":\"p2885\",\"attributes\":{\"x\":{\"type\":\"field\",\"field\":\"x\"},\"y\":{\"type\":\"field\",\"field\":\"y\"},\"line_color\":\"red\",\"line_alpha\":0.1,\"line_width\":2}},\"muted_glyph\":{\"type\":\"object\",\"name\":\"Line\",\"id\":\"p2886\",\"attributes\":{\"x\":{\"type\":\"field\",\"field\":\"x\"},\"y\":{\"type\":\"field\",\"field\":\"y\"},\"line_color\":\"red\",\"line_alpha\":0.2,\"line_width\":2}}}}],\"toolbar\":{\"type\":\"object\",\"name\":\"Toolbar\",\"id\":\"p2861\",\"attributes\":{\"tools\":[{\"type\":\"object\",\"name\":\"PanTool\",\"id\":\"p2874\"},{\"type\":\"object\",\"name\":\"WheelZoomTool\",\"id\":\"p2875\"},{\"type\":\"object\",\"name\":\"BoxZoomTool\",\"id\":\"p2876\",\"attributes\":{\"overlay\":{\"type\":\"object\",\"name\":\"BoxAnnotation\",\"id\":\"p2877\",\"attributes\":{\"syncable\":false,\"level\":\"overlay\",\"visible\":false,\"left_units\":\"canvas\",\"right_units\":\"canvas\",\"bottom_units\":\"canvas\",\"top_units\":\"canvas\",\"line_color\":\"black\",\"line_alpha\":1.0,\"line_width\":2,\"line_dash\":[4,4],\"fill_color\":\"lightgrey\",\"fill_alpha\":0.5}}}},{\"type\":\"object\",\"name\":\"SaveTool\",\"id\":\"p2878\"},{\"type\":\"object\",\"name\":\"ResetTool\",\"id\":\"p2879\"},{\"type\":\"object\",\"name\":\"HelpTool\",\"id\":\"p2880\"}]}},\"toolbar_location\":null,\"left\":[{\"type\":\"object\",\"name\":\"LinearAxis\",\"id\":\"p2869\",\"attributes\":{\"ticker\":{\"type\":\"object\",\"name\":\"BasicTicker\",\"id\":\"p2870\",\"attributes\":{\"mantissas\":[1,2,5]}},\"formatter\":{\"type\":\"object\",\"name\":\"BasicTickFormatter\",\"id\":\"p2871\"},\"axis_label\":\"y Position\",\"major_label_policy\":{\"type\":\"object\",\"name\":\"AllLabels\",\"id\":\"p2872\"}}}],\"below\":[{\"type\":\"object\",\"name\":\"LinearAxis\",\"id\":\"p2864\",\"attributes\":{\"ticker\":{\"type\":\"object\",\"name\":\"BasicTicker\",\"id\":\"p2865\",\"attributes\":{\"mantissas\":[1,2,5]}},\"formatter\":{\"type\":\"object\",\"name\":\"BasicTickFormatter\",\"id\":\"p2866\"},\"axis_label\":\"x Position\",\"major_label_policy\":{\"type\":\"object\",\"name\":\"AllLabels\",\"id\":\"p2867\"}}}],\"center\":[{\"type\":\"object\",\"name\":\"Grid\",\"id\":\"p2868\",\"attributes\":{\"axis\":{\"id\":\"p2864\"}}},{\"type\":\"object\",\"name\":\"Grid\",\"id\":\"p2873\",\"attributes\":{\"dimension\":1,\"axis\":{\"id\":\"p2869\"}}}]}}]}};\n",
       "  const render_items = [{\"docid\":\"e6ac0548-076c-490e-bc12-9bd026b4995e\",\"roots\":{\"p2852\":\"c09d0543-2b2b-4cf3-9266-2d1ee546b9e2\"},\"root_ids\":[\"p2852\"]}];\n",
       "  root.Bokeh.embed.embed_items_notebook(docs_json, render_items);\n",
       "  }\n",
       "  if (root.Bokeh !== undefined) {\n",
       "    embed_document(root);\n",
       "  } else {\n",
       "    let attempts = 0;\n",
       "    const timer = setInterval(function(root) {\n",
       "      if (root.Bokeh !== undefined) {\n",
       "        clearInterval(timer);\n",
       "        embed_document(root);\n",
       "      } else {\n",
       "        attempts++;\n",
       "        if (attempts > 100) {\n",
       "          clearInterval(timer);\n",
       "          console.log(\"Bokeh: ERROR: Unable to run BokehJS code because BokehJS library is missing\");\n",
       "        }\n",
       "      }\n",
       "    }, 10, root)\n",
       "  }\n",
       "})(window);"
      ],
      "application/vnd.bokehjs_exec.v0+json": ""
     },
     "metadata": {
      "application/vnd.bokehjs_exec.v0+json": {
       "id": "p2852"
      }
     },
     "output_type": "display_data"
    },
    {
     "data": {
      "text/html": [
       "\n",
       "  <div id=\"b002b8cb-572a-4f00-9a9a-6291a128115a\" data-root-id=\"p2892\" style=\"display: contents;\"></div>\n"
      ]
     },
     "metadata": {},
     "output_type": "display_data"
    },
    {
     "data": {
      "application/javascript": [
       "(function(root) {\n",
       "  function embed_document(root) {\n",
       "  const docs_json = {\"8c3f2847-a0a8-4709-acf4-575b9036d71f\":{\"version\":\"3.2.2\",\"title\":\"Bokeh Application\",\"roots\":[{\"type\":\"object\",\"name\":\"Figure\",\"id\":\"p2892\",\"attributes\":{\"x_range\":{\"type\":\"object\",\"name\":\"DataRange1d\",\"id\":\"p2893\"},\"y_range\":{\"type\":\"object\",\"name\":\"DataRange1d\",\"id\":\"p2894\"},\"x_scale\":{\"type\":\"object\",\"name\":\"LinearScale\",\"id\":\"p2902\"},\"y_scale\":{\"type\":\"object\",\"name\":\"LinearScale\",\"id\":\"p2903\"},\"title\":{\"type\":\"object\",\"name\":\"Title\",\"id\":\"p2895\",\"attributes\":{\"text\":\"x Position\"}},\"renderers\":[{\"type\":\"object\",\"name\":\"GlyphRenderer\",\"id\":\"p2927\",\"attributes\":{\"data_source\":{\"type\":\"object\",\"name\":\"ColumnDataSource\",\"id\":\"p2921\",\"attributes\":{\"selected\":{\"type\":\"object\",\"name\":\"Selection\",\"id\":\"p2922\",\"attributes\":{\"indices\":[],\"line_indices\":[]}},\"selection_policy\":{\"type\":\"object\",\"name\":\"UnionRenderers\",\"id\":\"p2923\"},\"data\":{\"type\":\"map\",\"entries\":[[\"x\",{\"type\":\"ndarray\",\"array\":{\"type\":\"bytes\",\"data\":\"AAAAAAAAAAAAAAAAAADgPwAAAAAAAPA/AAAAAAAA+D8AAAAAAAAAQAAAAAAAAARAAAAAAAAACEAAAAAAAAAMQAAAAAAAABBAAAAAAAAAEkAAAAAAAAAUQAAAAAAAABZAAAAAAAAAGEAAAAAAAAAaQAAAAAAAABxAAAAAAAAAHkAAAAAAAAAgQAAAAAAAACFAAAAAAAAAIkAAAAAAAAAjQAAAAAAAACRAAAAAAAAAJUAAAAAAAAAmQAAAAAAAACdAAAAAAAAAKEAAAAAAAAApQAAAAAAAACpAAAAAAAAAK0AAAAAAAAAsQAAAAAAAAC1AAAAAAAAALkA=\"},\"shape\":[31],\"dtype\":\"float64\",\"order\":\"little\"}],[\"y\",{\"type\":\"ndarray\",\"array\":{\"type\":\"bytes\",\"data\":\"AAAAAAEAAAADAAAABgAAAAkAAAANAAAADwAAABEAAAATAAAAFAAAABYAAAAYAAAAGQAAABoAAAAaAAAAGwAAABwAAAAdAAAAHAAAABsAAAAaAAAAGgAAABsAAAAcAAAAHQAAACAAAAAjAAAAJgAAACgAAAApAAAAKgAAAA==\"},\"shape\":[31],\"dtype\":\"int32\",\"order\":\"little\"}]]}}},\"view\":{\"type\":\"object\",\"name\":\"CDSView\",\"id\":\"p2928\",\"attributes\":{\"filter\":{\"type\":\"object\",\"name\":\"AllIndices\",\"id\":\"p2929\"}}},\"glyph\":{\"type\":\"object\",\"name\":\"Line\",\"id\":\"p2924\",\"attributes\":{\"x\":{\"type\":\"field\",\"field\":\"x\"},\"y\":{\"type\":\"field\",\"field\":\"y\"},\"line_color\":\"red\",\"line_width\":2}},\"nonselection_glyph\":{\"type\":\"object\",\"name\":\"Line\",\"id\":\"p2925\",\"attributes\":{\"x\":{\"type\":\"field\",\"field\":\"x\"},\"y\":{\"type\":\"field\",\"field\":\"y\"},\"line_color\":\"red\",\"line_alpha\":0.1,\"line_width\":2}},\"muted_glyph\":{\"type\":\"object\",\"name\":\"Line\",\"id\":\"p2926\",\"attributes\":{\"x\":{\"type\":\"field\",\"field\":\"x\"},\"y\":{\"type\":\"field\",\"field\":\"y\"},\"line_color\":\"red\",\"line_alpha\":0.2,\"line_width\":2}}}}],\"toolbar\":{\"type\":\"object\",\"name\":\"Toolbar\",\"id\":\"p2901\",\"attributes\":{\"tools\":[{\"type\":\"object\",\"name\":\"PanTool\",\"id\":\"p2914\"},{\"type\":\"object\",\"name\":\"WheelZoomTool\",\"id\":\"p2915\"},{\"type\":\"object\",\"name\":\"BoxZoomTool\",\"id\":\"p2916\",\"attributes\":{\"overlay\":{\"type\":\"object\",\"name\":\"BoxAnnotation\",\"id\":\"p2917\",\"attributes\":{\"syncable\":false,\"level\":\"overlay\",\"visible\":false,\"left_units\":\"canvas\",\"right_units\":\"canvas\",\"bottom_units\":\"canvas\",\"top_units\":\"canvas\",\"line_color\":\"black\",\"line_alpha\":1.0,\"line_width\":2,\"line_dash\":[4,4],\"fill_color\":\"lightgrey\",\"fill_alpha\":0.5}}}},{\"type\":\"object\",\"name\":\"SaveTool\",\"id\":\"p2918\"},{\"type\":\"object\",\"name\":\"ResetTool\",\"id\":\"p2919\"},{\"type\":\"object\",\"name\":\"HelpTool\",\"id\":\"p2920\"}]}},\"toolbar_location\":null,\"left\":[{\"type\":\"object\",\"name\":\"LinearAxis\",\"id\":\"p2909\",\"attributes\":{\"ticker\":{\"type\":\"object\",\"name\":\"BasicTicker\",\"id\":\"p2910\",\"attributes\":{\"mantissas\":[1,2,5]}},\"formatter\":{\"type\":\"object\",\"name\":\"BasicTickFormatter\",\"id\":\"p2911\"},\"axis_label\":\"x Position\",\"major_label_policy\":{\"type\":\"object\",\"name\":\"AllLabels\",\"id\":\"p2912\"}}}],\"below\":[{\"type\":\"object\",\"name\":\"LinearAxis\",\"id\":\"p2904\",\"attributes\":{\"ticker\":{\"type\":\"object\",\"name\":\"BasicTicker\",\"id\":\"p2905\",\"attributes\":{\"mantissas\":[1,2,5]}},\"formatter\":{\"type\":\"object\",\"name\":\"BasicTickFormatter\",\"id\":\"p2906\"},\"axis_label\":\"Time in seconds\",\"major_label_policy\":{\"type\":\"object\",\"name\":\"AllLabels\",\"id\":\"p2907\"}}}],\"center\":[{\"type\":\"object\",\"name\":\"Grid\",\"id\":\"p2908\",\"attributes\":{\"axis\":{\"id\":\"p2904\"}}},{\"type\":\"object\",\"name\":\"Grid\",\"id\":\"p2913\",\"attributes\":{\"dimension\":1,\"axis\":{\"id\":\"p2909\"}}}]}}]}};\n",
       "  const render_items = [{\"docid\":\"8c3f2847-a0a8-4709-acf4-575b9036d71f\",\"roots\":{\"p2892\":\"b002b8cb-572a-4f00-9a9a-6291a128115a\"},\"root_ids\":[\"p2892\"]}];\n",
       "  root.Bokeh.embed.embed_items_notebook(docs_json, render_items);\n",
       "  }\n",
       "  if (root.Bokeh !== undefined) {\n",
       "    embed_document(root);\n",
       "  } else {\n",
       "    let attempts = 0;\n",
       "    const timer = setInterval(function(root) {\n",
       "      if (root.Bokeh !== undefined) {\n",
       "        clearInterval(timer);\n",
       "        embed_document(root);\n",
       "      } else {\n",
       "        attempts++;\n",
       "        if (attempts > 100) {\n",
       "          clearInterval(timer);\n",
       "          console.log(\"Bokeh: ERROR: Unable to run BokehJS code because BokehJS library is missing\");\n",
       "        }\n",
       "      }\n",
       "    }, 10, root)\n",
       "  }\n",
       "})(window);"
      ],
      "application/vnd.bokehjs_exec.v0+json": ""
     },
     "metadata": {
      "application/vnd.bokehjs_exec.v0+json": {
       "id": "p2892"
      }
     },
     "output_type": "display_data"
    },
    {
     "data": {
      "text/html": [
       "\n",
       "  <div id=\"c26da64a-9ddc-4000-b7fb-5afc3034da8d\" data-root-id=\"p2932\" style=\"display: contents;\"></div>\n"
      ]
     },
     "metadata": {},
     "output_type": "display_data"
    },
    {
     "data": {
      "application/javascript": [
       "(function(root) {\n",
       "  function embed_document(root) {\n",
       "  const docs_json = {\"9486506f-4aeb-4edd-a169-bf7f152c3d23\":{\"version\":\"3.2.2\",\"title\":\"Bokeh Application\",\"roots\":[{\"type\":\"object\",\"name\":\"Figure\",\"id\":\"p2932\",\"attributes\":{\"x_range\":{\"type\":\"object\",\"name\":\"DataRange1d\",\"id\":\"p2933\"},\"y_range\":{\"type\":\"object\",\"name\":\"DataRange1d\",\"id\":\"p2934\"},\"x_scale\":{\"type\":\"object\",\"name\":\"LinearScale\",\"id\":\"p2942\"},\"y_scale\":{\"type\":\"object\",\"name\":\"LinearScale\",\"id\":\"p2943\"},\"title\":{\"type\":\"object\",\"name\":\"Title\",\"id\":\"p2935\",\"attributes\":{\"text\":\"y Position\"}},\"renderers\":[{\"type\":\"object\",\"name\":\"GlyphRenderer\",\"id\":\"p2967\",\"attributes\":{\"data_source\":{\"type\":\"object\",\"name\":\"ColumnDataSource\",\"id\":\"p2961\",\"attributes\":{\"selected\":{\"type\":\"object\",\"name\":\"Selection\",\"id\":\"p2962\",\"attributes\":{\"indices\":[],\"line_indices\":[]}},\"selection_policy\":{\"type\":\"object\",\"name\":\"UnionRenderers\",\"id\":\"p2963\"},\"data\":{\"type\":\"map\",\"entries\":[[\"x\",{\"type\":\"ndarray\",\"array\":{\"type\":\"bytes\",\"data\":\"AAAAAAAAAAAAAAAAAADgPwAAAAAAAPA/AAAAAAAA+D8AAAAAAAAAQAAAAAAAAARAAAAAAAAACEAAAAAAAAAMQAAAAAAAABBAAAAAAAAAEkAAAAAAAAAUQAAAAAAAABZAAAAAAAAAGEAAAAAAAAAaQAAAAAAAABxAAAAAAAAAHkAAAAAAAAAgQAAAAAAAACFAAAAAAAAAIkAAAAAAAAAjQAAAAAAAACRAAAAAAAAAJUAAAAAAAAAmQAAAAAAAACdAAAAAAAAAKEAAAAAAAAApQAAAAAAAACpAAAAAAAAAK0AAAAAAAAAsQAAAAAAAAC1AAAAAAAAALkA=\"},\"shape\":[31],\"dtype\":\"float64\",\"order\":\"little\"}],[\"y\",{\"type\":\"ndarray\",\"array\":{\"type\":\"bytes\",\"data\":\"AAAAAAAAAAAAAAAAAAAAAAEAAAADAAAABAAAAAYAAAAHAAAABwAAAAcAAAAGAAAABQAAAAUAAAAFAAAABQAAAAUAAAAGAAAABwAAAAkAAAAKAAAADAAAAA0AAAAOAAAAEQAAABMAAAAUAAAAFAAAABMAAAASAAAAEAAAAA==\"},\"shape\":[31],\"dtype\":\"int32\",\"order\":\"little\"}]]}}},\"view\":{\"type\":\"object\",\"name\":\"CDSView\",\"id\":\"p2968\",\"attributes\":{\"filter\":{\"type\":\"object\",\"name\":\"AllIndices\",\"id\":\"p2969\"}}},\"glyph\":{\"type\":\"object\",\"name\":\"Line\",\"id\":\"p2964\",\"attributes\":{\"x\":{\"type\":\"field\",\"field\":\"x\"},\"y\":{\"type\":\"field\",\"field\":\"y\"},\"line_color\":\"red\",\"line_width\":2}},\"nonselection_glyph\":{\"type\":\"object\",\"name\":\"Line\",\"id\":\"p2965\",\"attributes\":{\"x\":{\"type\":\"field\",\"field\":\"x\"},\"y\":{\"type\":\"field\",\"field\":\"y\"},\"line_color\":\"red\",\"line_alpha\":0.1,\"line_width\":2}},\"muted_glyph\":{\"type\":\"object\",\"name\":\"Line\",\"id\":\"p2966\",\"attributes\":{\"x\":{\"type\":\"field\",\"field\":\"x\"},\"y\":{\"type\":\"field\",\"field\":\"y\"},\"line_color\":\"red\",\"line_alpha\":0.2,\"line_width\":2}}}}],\"toolbar\":{\"type\":\"object\",\"name\":\"Toolbar\",\"id\":\"p2941\",\"attributes\":{\"tools\":[{\"type\":\"object\",\"name\":\"PanTool\",\"id\":\"p2954\"},{\"type\":\"object\",\"name\":\"WheelZoomTool\",\"id\":\"p2955\"},{\"type\":\"object\",\"name\":\"BoxZoomTool\",\"id\":\"p2956\",\"attributes\":{\"overlay\":{\"type\":\"object\",\"name\":\"BoxAnnotation\",\"id\":\"p2957\",\"attributes\":{\"syncable\":false,\"level\":\"overlay\",\"visible\":false,\"left_units\":\"canvas\",\"right_units\":\"canvas\",\"bottom_units\":\"canvas\",\"top_units\":\"canvas\",\"line_color\":\"black\",\"line_alpha\":1.0,\"line_width\":2,\"line_dash\":[4,4],\"fill_color\":\"lightgrey\",\"fill_alpha\":0.5}}}},{\"type\":\"object\",\"name\":\"SaveTool\",\"id\":\"p2958\"},{\"type\":\"object\",\"name\":\"ResetTool\",\"id\":\"p2959\"},{\"type\":\"object\",\"name\":\"HelpTool\",\"id\":\"p2960\"}]}},\"toolbar_location\":null,\"left\":[{\"type\":\"object\",\"name\":\"LinearAxis\",\"id\":\"p2949\",\"attributes\":{\"ticker\":{\"type\":\"object\",\"name\":\"BasicTicker\",\"id\":\"p2950\",\"attributes\":{\"mantissas\":[1,2,5]}},\"formatter\":{\"type\":\"object\",\"name\":\"BasicTickFormatter\",\"id\":\"p2951\"},\"axis_label\":\"y Position\",\"major_label_policy\":{\"type\":\"object\",\"name\":\"AllLabels\",\"id\":\"p2952\"}}}],\"below\":[{\"type\":\"object\",\"name\":\"LinearAxis\",\"id\":\"p2944\",\"attributes\":{\"ticker\":{\"type\":\"object\",\"name\":\"BasicTicker\",\"id\":\"p2945\",\"attributes\":{\"mantissas\":[1,2,5]}},\"formatter\":{\"type\":\"object\",\"name\":\"BasicTickFormatter\",\"id\":\"p2946\"},\"axis_label\":\"Time in seconds\",\"major_label_policy\":{\"type\":\"object\",\"name\":\"AllLabels\",\"id\":\"p2947\"}}}],\"center\":[{\"type\":\"object\",\"name\":\"Grid\",\"id\":\"p2948\",\"attributes\":{\"axis\":{\"id\":\"p2944\"}}},{\"type\":\"object\",\"name\":\"Grid\",\"id\":\"p2953\",\"attributes\":{\"dimension\":1,\"axis\":{\"id\":\"p2949\"}}}]}}]}};\n",
       "  const render_items = [{\"docid\":\"9486506f-4aeb-4edd-a169-bf7f152c3d23\",\"roots\":{\"p2932\":\"c26da64a-9ddc-4000-b7fb-5afc3034da8d\"},\"root_ids\":[\"p2932\"]}];\n",
       "  root.Bokeh.embed.embed_items_notebook(docs_json, render_items);\n",
       "  }\n",
       "  if (root.Bokeh !== undefined) {\n",
       "    embed_document(root);\n",
       "  } else {\n",
       "    let attempts = 0;\n",
       "    const timer = setInterval(function(root) {\n",
       "      if (root.Bokeh !== undefined) {\n",
       "        clearInterval(timer);\n",
       "        embed_document(root);\n",
       "      } else {\n",
       "        attempts++;\n",
       "        if (attempts > 100) {\n",
       "          clearInterval(timer);\n",
       "          console.log(\"Bokeh: ERROR: Unable to run BokehJS code because BokehJS library is missing\");\n",
       "        }\n",
       "      }\n",
       "    }, 10, root)\n",
       "  }\n",
       "})(window);"
      ],
      "application/vnd.bokehjs_exec.v0+json": ""
     },
     "metadata": {
      "application/vnd.bokehjs_exec.v0+json": {
       "id": "p2932"
      }
     },
     "output_type": "display_data"
    }
   ],
   "source": [
    "positionGroundTruthX = np.array([0, 1, 3, 6, 9, 13, 15, 17, 19, 20, 22, 24, 25, 26, 26, 27, 28, 29, 28, 27, 26, 26, 27, 28, 29, 32, 35, 38, 40, 41, 42])\n",
    "positionGroundTruthY = np.array([0, 0, 0, 0, 1, 3, 4, 6, 7, 7, 7, 6, 5, 5, 5, 5, 5, 6, 7, 9, 10, 12, 13, 14, 17, 19, 20, 20, 19, 18, 16])\n",
    "timeAtPosition = np.arange(0, 15.5, 0.5)\n",
    "\n",
    "# x, y position map\n",
    "p = figure(title=\"Ground Truth Data\", x_axis_label='x Position', y_axis_label='y Position')\n",
    "p.toolbar_location = None\n",
    "p.line(positionGroundTruthX, positionGroundTruthY, line_width=2, color='red')\n",
    "show(p)\n",
    "\n",
    "# x position over time\n",
    "p = figure(title=\"x Position\", x_axis_label='Time in seconds', y_axis_label='x Position')\n",
    "p.toolbar_location = None\n",
    "p.line(timeAtPosition, positionGroundTruthX, line_width=2, color='red')\n",
    "show(p)\n",
    "\n",
    "# y position over time\n",
    "p = figure(title=\"y Position\", x_axis_label='Time in seconds', y_axis_label='y Position')\n",
    "p.toolbar_location = None\n",
    "p.line(timeAtPosition, positionGroundTruthY, line_width=2, color='red')\n",
    "show(p)"
   ]
  },
  {
   "cell_type": "markdown",
   "id": "2364e8a4-4656-4168-9f28-c5fcb5856eb1",
   "metadata": {},
   "source": [
    "In order to test the Kalman Filter, sensor data has to be generated. Since there is no access to the simulation environment right now, the sensor data will be the ground truth data multiplied with some gaussian noise. Since the random seed is not set, the data will be different every time this cell is run."
   ]
  },
  {
   "cell_type": "code",
   "execution_count": 44,
   "id": "914fcba8-45c3-41f7-869b-6afb2b985de7",
   "metadata": {
    "ExecuteTime": {
     "end_time": "2023-09-29T17:27:45.889418300Z",
     "start_time": "2023-09-29T17:27:45.826361800Z"
    }
   },
   "outputs": [
    {
     "data": {
      "text/html": [
       "\n",
       "  <div id=\"d61ff5d1-a868-4ce1-9bce-dcede8c1031d\" data-root-id=\"p2972\" style=\"display: contents;\"></div>\n"
      ]
     },
     "metadata": {},
     "output_type": "display_data"
    },
    {
     "data": {
      "application/javascript": [
       "(function(root) {\n",
       "  function embed_document(root) {\n",
       "  const docs_json = {\"4ed05d26-bb35-428f-a496-6e559f2c583c\":{\"version\":\"3.2.2\",\"title\":\"Bokeh Application\",\"roots\":[{\"type\":\"object\",\"name\":\"Figure\",\"id\":\"p2972\",\"attributes\":{\"x_range\":{\"type\":\"object\",\"name\":\"DataRange1d\",\"id\":\"p2973\"},\"y_range\":{\"type\":\"object\",\"name\":\"DataRange1d\",\"id\":\"p2974\"},\"x_scale\":{\"type\":\"object\",\"name\":\"LinearScale\",\"id\":\"p2982\"},\"y_scale\":{\"type\":\"object\",\"name\":\"LinearScale\",\"id\":\"p2983\"},\"title\":{\"type\":\"object\",\"name\":\"Title\",\"id\":\"p2975\",\"attributes\":{\"text\":\"Comparison of Ground Truth to IMU and GNSS data\"}},\"renderers\":[{\"type\":\"object\",\"name\":\"GlyphRenderer\",\"id\":\"p3007\",\"attributes\":{\"data_source\":{\"type\":\"object\",\"name\":\"ColumnDataSource\",\"id\":\"p3001\",\"attributes\":{\"selected\":{\"type\":\"object\",\"name\":\"Selection\",\"id\":\"p3002\",\"attributes\":{\"indices\":[],\"line_indices\":[]}},\"selection_policy\":{\"type\":\"object\",\"name\":\"UnionRenderers\",\"id\":\"p3003\"},\"data\":{\"type\":\"map\",\"entries\":[[\"x\",{\"type\":\"ndarray\",\"array\":{\"type\":\"bytes\",\"data\":\"AAAAAAEAAAADAAAABgAAAAkAAAANAAAADwAAABEAAAATAAAAFAAAABYAAAAYAAAAGQAAABoAAAAaAAAAGwAAABwAAAAdAAAAHAAAABsAAAAaAAAAGgAAABsAAAAcAAAAHQAAACAAAAAjAAAAJgAAACgAAAApAAAAKgAAAA==\"},\"shape\":[31],\"dtype\":\"int32\",\"order\":\"little\"}],[\"y\",{\"type\":\"ndarray\",\"array\":{\"type\":\"bytes\",\"data\":\"AAAAAAAAAAAAAAAAAAAAAAEAAAADAAAABAAAAAYAAAAHAAAABwAAAAcAAAAGAAAABQAAAAUAAAAFAAAABQAAAAUAAAAGAAAABwAAAAkAAAAKAAAADAAAAA0AAAAOAAAAEQAAABMAAAAUAAAAFAAAABMAAAASAAAAEAAAAA==\"},\"shape\":[31],\"dtype\":\"int32\",\"order\":\"little\"}]]}}},\"view\":{\"type\":\"object\",\"name\":\"CDSView\",\"id\":\"p3008\",\"attributes\":{\"filter\":{\"type\":\"object\",\"name\":\"AllIndices\",\"id\":\"p3009\"}}},\"glyph\":{\"type\":\"object\",\"name\":\"Line\",\"id\":\"p3004\",\"attributes\":{\"x\":{\"type\":\"field\",\"field\":\"x\"},\"y\":{\"type\":\"field\",\"field\":\"y\"},\"line_color\":\"red\",\"line_width\":2}},\"nonselection_glyph\":{\"type\":\"object\",\"name\":\"Line\",\"id\":\"p3005\",\"attributes\":{\"x\":{\"type\":\"field\",\"field\":\"x\"},\"y\":{\"type\":\"field\",\"field\":\"y\"},\"line_color\":\"red\",\"line_alpha\":0.1,\"line_width\":2}},\"muted_glyph\":{\"type\":\"object\",\"name\":\"Line\",\"id\":\"p3006\",\"attributes\":{\"x\":{\"type\":\"field\",\"field\":\"x\"},\"y\":{\"type\":\"field\",\"field\":\"y\"},\"line_color\":\"red\",\"line_alpha\":0.2,\"line_width\":2}}}},{\"type\":\"object\",\"name\":\"GlyphRenderer\",\"id\":\"p3018\",\"attributes\":{\"data_source\":{\"type\":\"object\",\"name\":\"ColumnDataSource\",\"id\":\"p3012\",\"attributes\":{\"selected\":{\"type\":\"object\",\"name\":\"Selection\",\"id\":\"p3013\",\"attributes\":{\"indices\":[],\"line_indices\":[]}},\"selection_policy\":{\"type\":\"object\",\"name\":\"UnionRenderers\",\"id\":\"p3014\"},\"data\":{\"type\":\"map\",\"entries\":[[\"x\",{\"type\":\"ndarray\",\"array\":{\"type\":\"bytes\",\"data\":\"AAAAAAAAAAB+9pF9WpnvP2+29nctBQhAjyuLjh0sF0AvyPBJzRUhQMG6XuNlHSpAhKDP7tHyLEAUaKTkZK8wQG74UwqI4zJAQ5Wz14u2NEAM1FXxE+A2QGNFqNJxAThANkYMHe2pOECIhFeOb/Y5QLyPnRUMxzlAeGhVnTUXO0CAaMkfEVM8QLumH6qMbjxANZ9XquwWPEA+mliccTU7QGQRa1IhsjhA8Uz90LLSOkAcqppxaYg6QODKtGdehjxA7xH2t+lKPEAeSFafGRdAQKijk9PLpUFAiXzhxtXcQ0Bo4cx/WRZEQOW9w17N10RAUwrAh88eREA=\"},\"shape\":[31],\"dtype\":\"float64\",\"order\":\"little\"}],[\"y\",{\"type\":\"ndarray\",\"array\":{\"type\":\"bytes\",\"data\":\"AAAAAAAAAAAAAAAAAAAAAAAAAAAAAAAAAAAAAAAAAABTc9cA6WLvP4zeJOkcBwlACRtv92jlDkDeFXof0bIWQPLDkPz+QxtA4iA5H6qQHECmkkT8CXobQO7Vr5X40BhAEOrjWzNjFEBob3XRS3EUQHfXgVbnrhRAO9bQVkD+FEDTc7L6sU4UQPFpK50RIxdA8thCX7K3HUDuahSn93whQDduVP7nYCRAKsqwWk1IJ0BtosDYzj0pQMSLetnb6ipAPRZuJvs3MUB6IE4b5AgyQDBWaQtOBjNAV/wAhR/6MkBgzF9523gyQKfTiAae9zFAk5L70VuCMEA=\"},\"shape\":[31],\"dtype\":\"float64\",\"order\":\"little\"}]]}}},\"view\":{\"type\":\"object\",\"name\":\"CDSView\",\"id\":\"p3019\",\"attributes\":{\"filter\":{\"type\":\"object\",\"name\":\"AllIndices\",\"id\":\"p3020\"}}},\"glyph\":{\"type\":\"object\",\"name\":\"Line\",\"id\":\"p3015\",\"attributes\":{\"x\":{\"type\":\"field\",\"field\":\"x\"},\"y\":{\"type\":\"field\",\"field\":\"y\"},\"line_color\":\"blue\",\"line_width\":2}},\"nonselection_glyph\":{\"type\":\"object\",\"name\":\"Line\",\"id\":\"p3016\",\"attributes\":{\"x\":{\"type\":\"field\",\"field\":\"x\"},\"y\":{\"type\":\"field\",\"field\":\"y\"},\"line_color\":\"blue\",\"line_alpha\":0.1,\"line_width\":2}},\"muted_glyph\":{\"type\":\"object\",\"name\":\"Line\",\"id\":\"p3017\",\"attributes\":{\"x\":{\"type\":\"field\",\"field\":\"x\"},\"y\":{\"type\":\"field\",\"field\":\"y\"},\"line_color\":\"blue\",\"line_alpha\":0.2,\"line_width\":2}}}},{\"type\":\"object\",\"name\":\"GlyphRenderer\",\"id\":\"p3028\",\"attributes\":{\"data_source\":{\"type\":\"object\",\"name\":\"ColumnDataSource\",\"id\":\"p3022\",\"attributes\":{\"selected\":{\"type\":\"object\",\"name\":\"Selection\",\"id\":\"p3023\",\"attributes\":{\"indices\":[],\"line_indices\":[]}},\"selection_policy\":{\"type\":\"object\",\"name\":\"UnionRenderers\",\"id\":\"p3024\"},\"data\":{\"type\":\"map\",\"entries\":[[\"x\",{\"type\":\"ndarray\",\"array\":{\"type\":\"bytes\",\"data\":\"AAAAAAAAAADH+A3RVdPvP2QL+aadPghAKh0ywrV/GEBbVZ2nUNkhQE6+mX914ilALDek49xmLEAoS2cN4kIwQLgsHhUR0zJA5Qhhm+0qNUCnGmFeKys1QPcLlJnYsjdAh0jxcEGYOECDUS6KL8M5QOqL4TQM2zpAoJFSodOpOUBQ8mb9KWs8QH4GSgOSYDxA55LJIKB7PEC3wche8F08QH/mEd7cpTpAMObQ23DlO0B4qC5kt8M6QEhfT4i0HDxAFp9VNLAkPEDgsho1VZBAQH+E0cGAp0BAGPSQzIekQkBob6KPt/xDQGRQxJIXhURAlcWCn4TsREA=\"},\"shape\":[31],\"dtype\":\"float64\",\"order\":\"little\"}],[\"y\",{\"type\":\"ndarray\",\"array\":{\"type\":\"bytes\",\"data\":\"AAAAAAAAAAAAAAAAAAAAAAAAAAAAAAAAAAAAAAAAAABaPPTc8IfuPy7DBfv5pgdAknlf5JDzDkA6kglf0fIXQBJExcl0zxtAC23g+u9uGkB2w+Jyvr8aQJNkerQMPRdAS62+kHBUFUAJATNzusMTQJ5pSxzc5xNAvH9cOOjSE0Ct0aUKCIgTQEpsiOdY/BhAOXBZjZHYHEDFkD/8tiMiQL638jQ5YiNAnX/ljDKkJ0BnvCJpnVspQELMycr9vCtAuheoAHDZMED+5CmXOeoyQOiUkQf/pzNAmf0wR9XCM0DEguVwo+oyQMrcPrBAyjFAPvCNILxfMEA=\"},\"shape\":[31],\"dtype\":\"float64\",\"order\":\"little\"}]]}}},\"view\":{\"type\":\"object\",\"name\":\"CDSView\",\"id\":\"p3029\",\"attributes\":{\"filter\":{\"type\":\"object\",\"name\":\"AllIndices\",\"id\":\"p3030\"}}},\"glyph\":{\"type\":\"object\",\"name\":\"Line\",\"id\":\"p3025\",\"attributes\":{\"x\":{\"type\":\"field\",\"field\":\"x\"},\"y\":{\"type\":\"field\",\"field\":\"y\"},\"line_color\":\"green\",\"line_width\":2}},\"nonselection_glyph\":{\"type\":\"object\",\"name\":\"Line\",\"id\":\"p3026\",\"attributes\":{\"x\":{\"type\":\"field\",\"field\":\"x\"},\"y\":{\"type\":\"field\",\"field\":\"y\"},\"line_color\":\"green\",\"line_alpha\":0.1,\"line_width\":2}},\"muted_glyph\":{\"type\":\"object\",\"name\":\"Line\",\"id\":\"p3027\",\"attributes\":{\"x\":{\"type\":\"field\",\"field\":\"x\"},\"y\":{\"type\":\"field\",\"field\":\"y\"},\"line_color\":\"green\",\"line_alpha\":0.2,\"line_width\":2}}}}],\"toolbar\":{\"type\":\"object\",\"name\":\"Toolbar\",\"id\":\"p2981\",\"attributes\":{\"tools\":[{\"type\":\"object\",\"name\":\"PanTool\",\"id\":\"p2994\"},{\"type\":\"object\",\"name\":\"WheelZoomTool\",\"id\":\"p2995\"},{\"type\":\"object\",\"name\":\"BoxZoomTool\",\"id\":\"p2996\",\"attributes\":{\"overlay\":{\"type\":\"object\",\"name\":\"BoxAnnotation\",\"id\":\"p2997\",\"attributes\":{\"syncable\":false,\"level\":\"overlay\",\"visible\":false,\"left_units\":\"canvas\",\"right_units\":\"canvas\",\"bottom_units\":\"canvas\",\"top_units\":\"canvas\",\"line_color\":\"black\",\"line_alpha\":1.0,\"line_width\":2,\"line_dash\":[4,4],\"fill_color\":\"lightgrey\",\"fill_alpha\":0.5}}}},{\"type\":\"object\",\"name\":\"SaveTool\",\"id\":\"p2998\"},{\"type\":\"object\",\"name\":\"ResetTool\",\"id\":\"p2999\"},{\"type\":\"object\",\"name\":\"HelpTool\",\"id\":\"p3000\"}]}},\"left\":[{\"type\":\"object\",\"name\":\"LinearAxis\",\"id\":\"p2989\",\"attributes\":{\"ticker\":{\"type\":\"object\",\"name\":\"BasicTicker\",\"id\":\"p2990\",\"attributes\":{\"mantissas\":[1,2,5]}},\"formatter\":{\"type\":\"object\",\"name\":\"BasicTickFormatter\",\"id\":\"p2991\"},\"axis_label\":\"y Position\",\"major_label_policy\":{\"type\":\"object\",\"name\":\"AllLabels\",\"id\":\"p2992\"}}}],\"below\":[{\"type\":\"object\",\"name\":\"LinearAxis\",\"id\":\"p2984\",\"attributes\":{\"ticker\":{\"type\":\"object\",\"name\":\"BasicTicker\",\"id\":\"p2985\",\"attributes\":{\"mantissas\":[1,2,5]}},\"formatter\":{\"type\":\"object\",\"name\":\"BasicTickFormatter\",\"id\":\"p2986\"},\"axis_label\":\"x Position\",\"major_label_policy\":{\"type\":\"object\",\"name\":\"AllLabels\",\"id\":\"p2987\"}}}],\"center\":[{\"type\":\"object\",\"name\":\"Grid\",\"id\":\"p2988\",\"attributes\":{\"axis\":{\"id\":\"p2984\"}}},{\"type\":\"object\",\"name\":\"Grid\",\"id\":\"p2993\",\"attributes\":{\"dimension\":1,\"axis\":{\"id\":\"p2989\"}}},{\"type\":\"object\",\"name\":\"Legend\",\"id\":\"p3010\",\"attributes\":{\"items\":[{\"type\":\"object\",\"name\":\"LegendItem\",\"id\":\"p3011\",\"attributes\":{\"label\":{\"type\":\"value\",\"value\":\"Ground Truth\"},\"renderers\":[{\"id\":\"p3007\"}]}},{\"type\":\"object\",\"name\":\"LegendItem\",\"id\":\"p3021\",\"attributes\":{\"label\":{\"type\":\"value\",\"value\":\"IMU\"},\"renderers\":[{\"id\":\"p3018\"}]}},{\"type\":\"object\",\"name\":\"LegendItem\",\"id\":\"p3031\",\"attributes\":{\"label\":{\"type\":\"value\",\"value\":\"GNSS\"},\"renderers\":[{\"id\":\"p3028\"}]}}]}}]}}]}};\n",
       "  const render_items = [{\"docid\":\"4ed05d26-bb35-428f-a496-6e559f2c583c\",\"roots\":{\"p2972\":\"d61ff5d1-a868-4ce1-9bce-dcede8c1031d\"},\"root_ids\":[\"p2972\"]}];\n",
       "  root.Bokeh.embed.embed_items_notebook(docs_json, render_items);\n",
       "  }\n",
       "  if (root.Bokeh !== undefined) {\n",
       "    embed_document(root);\n",
       "  } else {\n",
       "    let attempts = 0;\n",
       "    const timer = setInterval(function(root) {\n",
       "      if (root.Bokeh !== undefined) {\n",
       "        clearInterval(timer);\n",
       "        embed_document(root);\n",
       "      } else {\n",
       "        attempts++;\n",
       "        if (attempts > 100) {\n",
       "          clearInterval(timer);\n",
       "          console.log(\"Bokeh: ERROR: Unable to run BokehJS code because BokehJS library is missing\");\n",
       "        }\n",
       "      }\n",
       "    }, 10, root)\n",
       "  }\n",
       "})(window);"
      ],
      "application/vnd.bokehjs_exec.v0+json": ""
     },
     "metadata": {
      "application/vnd.bokehjs_exec.v0+json": {
       "id": "p2972"
      }
     },
     "output_type": "display_data"
    }
   ],
   "source": [
    "# IMU position data\n",
    "noiseX = np.random.normal(1, 0.03, 31)\n",
    "noiseY = np.random.normal(1, 0.03, 31)\n",
    "positionIMUX = np.multiply(positionGroundTruthX, noiseX)\n",
    "positionIMUY = np.multiply(positionGroundTruthY, noiseY)\n",
    "\n",
    "# GNSS position data\n",
    "noiseX = np.random.normal(1, 0.03, 31)\n",
    "noiseY = np.random.normal(1, 0.03, 31)\n",
    "positionGNSSX = np.multiply(positionGroundTruthX, noiseX)\n",
    "positionGNSSY = np.multiply(positionGroundTruthY, noiseY)\n",
    "\n",
    "\n",
    "p = figure(title=\"Comparison of Ground Truth to IMU and GNSS data\", x_axis_label='x Position', y_axis_label='y Position')\n",
    "\n",
    "# ground Truth\n",
    "p.line(positionGroundTruthX, positionGroundTruthY, legend_label='Ground Truth', line_width=2, color='red')\n",
    "p.line(positionIMUX, positionIMUY, legend_label='IMU', line_width=2, color='blue')\n",
    "p.line(positionGNSSX, positionGNSSY, legend_label='GNSS', line_width=2, color='green')\n",
    "\n",
    "show(p)"
   ]
  },
  {
   "cell_type": "markdown",
   "id": "9f9553c4-2944-4b37-b628-cbc576991c2e",
   "metadata": {},
   "source": [
    "<h2>Implement the Kalman Filter</h2>\n",
    "\n",
    "The Kalman Filter will be implemented as described in [An Introduction to the Kalman Filter](http://www.cs.unc.edu/~welch/media/pdf/kalman_intro.pdf)."
   ]
  },
  {
   "cell_type": "code",
   "execution_count": 45,
   "id": "baeceacc-55f8-4605-ba34-32863dd9103d",
   "metadata": {
    "ExecuteTime": {
     "end_time": "2023-09-29T17:27:45.934459800Z",
     "start_time": "2023-09-29T17:27:45.886415200Z"
    }
   },
   "outputs": [],
   "source": [
    "class KalmanFilter:\n",
    "\n",
    "    def __init__(self, dt, A, H, Q, R, P):\n",
    "        self.A = A\n",
    "        self.H = H\n",
    "        self.Q = Q\n",
    "        self.R = R\n",
    "        self.P0 = P\n",
    "        self.m = np.shape(H)[0]\n",
    "        self.n = np.shape(A)[0]\n",
    "        self.dt = dt\n",
    "        self.initialized = False\n",
    "        self.I = np.identity(self.n)\n",
    "        self.x_hat = np.zeros(self.n)\n",
    "        self.x_hat_new = np.zeros(self.n)\n",
    "\n",
    "    def init(self, t0=None, x0=None):\n",
    "        if x0 is not None:\n",
    "            self.x_hat = x0\n",
    "        self.P = self.P0\n",
    "        self.t0 = 0\n",
    "        if t0 is not None:\n",
    "            self.t0 = t0\n",
    "        self.t = self.t0\n",
    "        self.initialized = True\n",
    "\n",
    "    def update(self, y, dt=None, A=None):\n",
    "        if A is not None:\n",
    "            self.A = A\n",
    "        if dt is not None:\n",
    "            self.dt = dt\n",
    "        \n",
    "        if not self.initialized:\n",
    "            print(\"Filter not initialized\")\n",
    "\n",
    "        self.x_hat_new = self.A @ self.x_hat\n",
    "        self.P = self.A @ self.P @ np.transpose(self.A) + self.Q\n",
    "        self.K = self.P @ np.transpose(self.H) @ np.linalg.inv(self.H @ self.P @ np.transpose(self.H) + self.R)\n",
    "        self.x_hat_new = self.K @ (y - self.H @ self.x_hat_new)\n",
    "        self.P = (self.I - self.K @ self.H) @ self.P\n",
    "        self.x_hat = self.x_hat_new\n",
    "\n",
    "        self.t = self.t + self.dt"
   ]
  },
  {
   "cell_type": "markdown",
   "id": "f7486f24-da54-4113-953a-66026457d179",
   "metadata": {},
   "source": [
    "A refers to the system dynamics matrix <br>\n",
    "H refers to the Output matrix and transforms the measurement to the state vector<br>\n",
    "Q refers to the process noise covariance and tells us how instable the process is<br>\n",
    "R refers to the measurement noise covariance and tells us how accurate the measured data is and how much we should trust it<br>\n",
    "P refers to the estimate error covariance and shows how much the estimates of the filter are off. It converges over time.<br>"
   ]
  },
  {
   "cell_type": "code",
   "execution_count": 46,
   "id": "4bd8c620-1f3e-467a-81c0-60af3dfd1838",
   "metadata": {
    "ExecuteTime": {
     "end_time": "2023-09-29T17:27:45.936461600Z",
     "start_time": "2023-09-29T17:27:45.905432100Z"
    }
   },
   "outputs": [],
   "source": [
    "n = 2 # number of states\n",
    "m = 4 # number of measurements\n",
    "dt = 0.5 # time step\n",
    "\n",
    "# list of all values to plot\n",
    "x_hatXValues = [0]\n",
    "x_hatYValues = [0]\n",
    "\n",
    "# Model\n",
    "A = np.array([[0.01, 0], [0, 0.01]])\n",
    "H = np.array([[1, 0], [0, 1], [1, 0], [0, 1]])\n",
    "\n",
    "# Covariance matrices\n",
    "Q = np.array([[50, 0], [0, 50]])\n",
    "R = np.array([[0.001, 0, 0, 0], [0, 0.001, 0, 0], [0, 0, 0.001, 0], [0, 0, 0, 0.001]])\n",
    "P = np.array([[1, 0], [0, 1]])\n",
    "\n",
    "filter = KalmanFilter(dt, A, H, Q, R, P)\n",
    "filter.init()\n",
    "\n",
    "#print(\"t=\" + str(filter.t) + \", \" + \"x_hat[0]: \" + str(filter.x_hat))\n",
    "for xIMU, yIMU, xGNSS, yGNSS in zip(positionIMUX, positionIMUY, positionGNSSX, positionGNSSY):\n",
    "    y = np.array([xIMU, yIMU, xGNSS, yGNSS])\n",
    "    filter.update(y)\n",
    "    x_hatXValues.append(filter.x_hat[0])\n",
    "    x_hatYValues.append(filter.x_hat[1])\n",
    "    #print(\"t=\" + str(filter.t))\n",
    "    #print(\"y=\" + str(y))\n",
    "    #print()\n",
    "    #print(\"x_hat=\" + str(filter.x_hat))\n",
    "    #print()"
   ]
  },
  {
   "cell_type": "markdown",
   "id": "cbc7eb0b-fdac-4aaa-ab8f-6e8b2a75881d",
   "metadata": {},
   "source": [
    "Visualize the Output of the Filter."
   ]
  },
  {
   "cell_type": "code",
   "execution_count": 47,
   "id": "7b495a58-4b2c-4a92-aad6-125c4e16e79b",
   "metadata": {
    "ExecuteTime": {
     "end_time": "2023-09-29T17:27:46.034550300Z",
     "start_time": "2023-09-29T17:27:45.935461100Z"
    }
   },
   "outputs": [
    {
     "data": {
      "text/html": [
       "\n",
       "  <div id=\"a8126917-64fe-419c-aba2-2d244e30f732\" data-root-id=\"p3038\" style=\"display: contents;\"></div>\n"
      ]
     },
     "metadata": {},
     "output_type": "display_data"
    },
    {
     "data": {
      "application/javascript": [
       "(function(root) {\n",
       "  function embed_document(root) {\n",
       "  const docs_json = {\"4b4a4251-8f2b-4270-84c5-7a09eba304fc\":{\"version\":\"3.2.2\",\"title\":\"Bokeh Application\",\"roots\":[{\"type\":\"object\",\"name\":\"Figure\",\"id\":\"p3038\",\"attributes\":{\"x_range\":{\"type\":\"object\",\"name\":\"DataRange1d\",\"id\":\"p3039\"},\"y_range\":{\"type\":\"object\",\"name\":\"DataRange1d\",\"id\":\"p3040\"},\"x_scale\":{\"type\":\"object\",\"name\":\"LinearScale\",\"id\":\"p3048\"},\"y_scale\":{\"type\":\"object\",\"name\":\"LinearScale\",\"id\":\"p3049\"},\"title\":{\"type\":\"object\",\"name\":\"Title\",\"id\":\"p3041\",\"attributes\":{\"text\":\"Output of the Kalman Filter\"}},\"renderers\":[{\"type\":\"object\",\"name\":\"GlyphRenderer\",\"id\":\"p3073\",\"attributes\":{\"data_source\":{\"type\":\"object\",\"name\":\"ColumnDataSource\",\"id\":\"p3067\",\"attributes\":{\"selected\":{\"type\":\"object\",\"name\":\"Selection\",\"id\":\"p3068\",\"attributes\":{\"indices\":[],\"line_indices\":[]}},\"selection_policy\":{\"type\":\"object\",\"name\":\"UnionRenderers\",\"id\":\"p3069\"},\"data\":{\"type\":\"map\",\"entries\":[[\"x\",[0,0.0,0.9909989217828908,3.006611077675978,5.928773747343947,8.674138184304866,12.91298981921863,14.208308974509254,16.330951121862306,18.693140541873138,20.753240773549386,21.814216852601852,23.633751794790996,24.392679989011704,25.618358946051217,26.06014738466576,26.11616102135745,28.110102042900145,28.123148672984705,28.004718885011705,27.50753464629947,25.39653187445121,27.105410805921004,26.377370130158727,28.054449611306843,27.93714734689717,32.37433966237468,33.9778666472769,38.16517378764848,39.69243040716502,40.965534440830304,40.63419114203971]],[\"y\",[0,0.0,0.0,0.0,0.0,0.9674494954611648,3.0327974766380237,3.8351063329143713,5.792467351322255,6.826505227986303,6.8064725278840275,6.710082503022674,5.939685804918847,5.155219719392314,4.974288921793498,5.02382184837994,5.051839405063074,4.929279307317163,5.9659874334592935,7.260709573803556,8.834220753143612,9.8521156079094,11.632319188181324,12.533378505930242,13.538447005026358,16.89846718034188,18.30566821771485,19.15718352499141,19.17729154956418,18.50236972130363,17.693451666100984,16.26449179264285]]]}}},\"view\":{\"type\":\"object\",\"name\":\"CDSView\",\"id\":\"p3074\",\"attributes\":{\"filter\":{\"type\":\"object\",\"name\":\"AllIndices\",\"id\":\"p3075\"}}},\"glyph\":{\"type\":\"object\",\"name\":\"Line\",\"id\":\"p3070\",\"attributes\":{\"x\":{\"type\":\"field\",\"field\":\"x\"},\"y\":{\"type\":\"field\",\"field\":\"y\"},\"line_color\":\"orange\",\"line_width\":2}},\"nonselection_glyph\":{\"type\":\"object\",\"name\":\"Line\",\"id\":\"p3071\",\"attributes\":{\"x\":{\"type\":\"field\",\"field\":\"x\"},\"y\":{\"type\":\"field\",\"field\":\"y\"},\"line_color\":\"orange\",\"line_alpha\":0.1,\"line_width\":2}},\"muted_glyph\":{\"type\":\"object\",\"name\":\"Line\",\"id\":\"p3072\",\"attributes\":{\"x\":{\"type\":\"field\",\"field\":\"x\"},\"y\":{\"type\":\"field\",\"field\":\"y\"},\"line_color\":\"orange\",\"line_alpha\":0.2,\"line_width\":2}}}}],\"toolbar\":{\"type\":\"object\",\"name\":\"Toolbar\",\"id\":\"p3047\",\"attributes\":{\"tools\":[{\"type\":\"object\",\"name\":\"PanTool\",\"id\":\"p3060\"},{\"type\":\"object\",\"name\":\"WheelZoomTool\",\"id\":\"p3061\"},{\"type\":\"object\",\"name\":\"BoxZoomTool\",\"id\":\"p3062\",\"attributes\":{\"overlay\":{\"type\":\"object\",\"name\":\"BoxAnnotation\",\"id\":\"p3063\",\"attributes\":{\"syncable\":false,\"level\":\"overlay\",\"visible\":false,\"left_units\":\"canvas\",\"right_units\":\"canvas\",\"bottom_units\":\"canvas\",\"top_units\":\"canvas\",\"line_color\":\"black\",\"line_alpha\":1.0,\"line_width\":2,\"line_dash\":[4,4],\"fill_color\":\"lightgrey\",\"fill_alpha\":0.5}}}},{\"type\":\"object\",\"name\":\"SaveTool\",\"id\":\"p3064\"},{\"type\":\"object\",\"name\":\"ResetTool\",\"id\":\"p3065\"},{\"type\":\"object\",\"name\":\"HelpTool\",\"id\":\"p3066\"}]}},\"left\":[{\"type\":\"object\",\"name\":\"LinearAxis\",\"id\":\"p3055\",\"attributes\":{\"ticker\":{\"type\":\"object\",\"name\":\"BasicTicker\",\"id\":\"p3056\",\"attributes\":{\"mantissas\":[1,2,5]}},\"formatter\":{\"type\":\"object\",\"name\":\"BasicTickFormatter\",\"id\":\"p3057\"},\"axis_label\":\"y Position\",\"major_label_policy\":{\"type\":\"object\",\"name\":\"AllLabels\",\"id\":\"p3058\"}}}],\"below\":[{\"type\":\"object\",\"name\":\"LinearAxis\",\"id\":\"p3050\",\"attributes\":{\"ticker\":{\"type\":\"object\",\"name\":\"BasicTicker\",\"id\":\"p3051\",\"attributes\":{\"mantissas\":[1,2,5]}},\"formatter\":{\"type\":\"object\",\"name\":\"BasicTickFormatter\",\"id\":\"p3052\"},\"axis_label\":\"x Position\",\"major_label_policy\":{\"type\":\"object\",\"name\":\"AllLabels\",\"id\":\"p3053\"}}}],\"center\":[{\"type\":\"object\",\"name\":\"Grid\",\"id\":\"p3054\",\"attributes\":{\"axis\":{\"id\":\"p3050\"}}},{\"type\":\"object\",\"name\":\"Grid\",\"id\":\"p3059\",\"attributes\":{\"dimension\":1,\"axis\":{\"id\":\"p3055\"}}}]}}]}};\n",
       "  const render_items = [{\"docid\":\"4b4a4251-8f2b-4270-84c5-7a09eba304fc\",\"roots\":{\"p3038\":\"a8126917-64fe-419c-aba2-2d244e30f732\"},\"root_ids\":[\"p3038\"]}];\n",
       "  root.Bokeh.embed.embed_items_notebook(docs_json, render_items);\n",
       "  }\n",
       "  if (root.Bokeh !== undefined) {\n",
       "    embed_document(root);\n",
       "  } else {\n",
       "    let attempts = 0;\n",
       "    const timer = setInterval(function(root) {\n",
       "      if (root.Bokeh !== undefined) {\n",
       "        clearInterval(timer);\n",
       "        embed_document(root);\n",
       "      } else {\n",
       "        attempts++;\n",
       "        if (attempts > 100) {\n",
       "          clearInterval(timer);\n",
       "          console.log(\"Bokeh: ERROR: Unable to run BokehJS code because BokehJS library is missing\");\n",
       "        }\n",
       "      }\n",
       "    }, 10, root)\n",
       "  }\n",
       "})(window);"
      ],
      "application/vnd.bokehjs_exec.v0+json": ""
     },
     "metadata": {
      "application/vnd.bokehjs_exec.v0+json": {
       "id": "p3038"
      }
     },
     "output_type": "display_data"
    }
   ],
   "source": [
    "p = figure(title=\"Output of the Kalman Filter\", x_axis_label='x Position', y_axis_label='y Position')\n",
    "\n",
    "# filter output\n",
    "p.line(x_hatXValues, x_hatYValues, line_width=2, color='orange')\n",
    "\n",
    "show(p)"
   ]
  },
  {
   "cell_type": "markdown",
   "id": "f2aad382-1f4f-4e52-a07f-3eaaf6b93d3a",
   "metadata": {},
   "source": [
    "Compare the Filter to the Ground Truth"
   ]
  },
  {
   "cell_type": "code",
   "execution_count": 48,
   "id": "bfe97592-f90f-409d-bfdb-4f58fd43aac8",
   "metadata": {
    "ExecuteTime": {
     "end_time": "2023-09-29T17:27:46.067580Z",
     "start_time": "2023-09-29T17:27:46.030547200Z"
    }
   },
   "outputs": [
    {
     "data": {
      "text/html": [
       "\n",
       "  <div id=\"c91cd99d-19ce-40a8-8e84-63ef59909570\" data-root-id=\"p3076\" style=\"display: contents;\"></div>\n"
      ]
     },
     "metadata": {},
     "output_type": "display_data"
    },
    {
     "data": {
      "application/javascript": [
       "(function(root) {\n",
       "  function embed_document(root) {\n",
       "  const docs_json = {\"d86c1132-e0f9-41dd-a950-391b4476b7a3\":{\"version\":\"3.2.2\",\"title\":\"Bokeh Application\",\"roots\":[{\"type\":\"object\",\"name\":\"Figure\",\"id\":\"p3076\",\"attributes\":{\"x_range\":{\"type\":\"object\",\"name\":\"DataRange1d\",\"id\":\"p3077\"},\"y_range\":{\"type\":\"object\",\"name\":\"DataRange1d\",\"id\":\"p3078\"},\"x_scale\":{\"type\":\"object\",\"name\":\"LinearScale\",\"id\":\"p3086\"},\"y_scale\":{\"type\":\"object\",\"name\":\"LinearScale\",\"id\":\"p3087\"},\"title\":{\"type\":\"object\",\"name\":\"Title\",\"id\":\"p3079\",\"attributes\":{\"text\":\"Comparison of Filter and Ground Truth\"}},\"renderers\":[{\"type\":\"object\",\"name\":\"GlyphRenderer\",\"id\":\"p3111\",\"attributes\":{\"data_source\":{\"type\":\"object\",\"name\":\"ColumnDataSource\",\"id\":\"p3105\",\"attributes\":{\"selected\":{\"type\":\"object\",\"name\":\"Selection\",\"id\":\"p3106\",\"attributes\":{\"indices\":[],\"line_indices\":[]}},\"selection_policy\":{\"type\":\"object\",\"name\":\"UnionRenderers\",\"id\":\"p3107\"},\"data\":{\"type\":\"map\",\"entries\":[[\"x\",[0,0.0,0.9909989217828908,3.006611077675978,5.928773747343947,8.674138184304866,12.91298981921863,14.208308974509254,16.330951121862306,18.693140541873138,20.753240773549386,21.814216852601852,23.633751794790996,24.392679989011704,25.618358946051217,26.06014738466576,26.11616102135745,28.110102042900145,28.123148672984705,28.004718885011705,27.50753464629947,25.39653187445121,27.105410805921004,26.377370130158727,28.054449611306843,27.93714734689717,32.37433966237468,33.9778666472769,38.16517378764848,39.69243040716502,40.965534440830304,40.63419114203971]],[\"y\",[0,0.0,0.0,0.0,0.0,0.9674494954611648,3.0327974766380237,3.8351063329143713,5.792467351322255,6.826505227986303,6.8064725278840275,6.710082503022674,5.939685804918847,5.155219719392314,4.974288921793498,5.02382184837994,5.051839405063074,4.929279307317163,5.9659874334592935,7.260709573803556,8.834220753143612,9.8521156079094,11.632319188181324,12.533378505930242,13.538447005026358,16.89846718034188,18.30566821771485,19.15718352499141,19.17729154956418,18.50236972130363,17.693451666100984,16.26449179264285]]]}}},\"view\":{\"type\":\"object\",\"name\":\"CDSView\",\"id\":\"p3112\",\"attributes\":{\"filter\":{\"type\":\"object\",\"name\":\"AllIndices\",\"id\":\"p3113\"}}},\"glyph\":{\"type\":\"object\",\"name\":\"Line\",\"id\":\"p3108\",\"attributes\":{\"x\":{\"type\":\"field\",\"field\":\"x\"},\"y\":{\"type\":\"field\",\"field\":\"y\"},\"line_color\":\"orange\",\"line_width\":2}},\"nonselection_glyph\":{\"type\":\"object\",\"name\":\"Line\",\"id\":\"p3109\",\"attributes\":{\"x\":{\"type\":\"field\",\"field\":\"x\"},\"y\":{\"type\":\"field\",\"field\":\"y\"},\"line_color\":\"orange\",\"line_alpha\":0.1,\"line_width\":2}},\"muted_glyph\":{\"type\":\"object\",\"name\":\"Line\",\"id\":\"p3110\",\"attributes\":{\"x\":{\"type\":\"field\",\"field\":\"x\"},\"y\":{\"type\":\"field\",\"field\":\"y\"},\"line_color\":\"orange\",\"line_alpha\":0.2,\"line_width\":2}}}},{\"type\":\"object\",\"name\":\"GlyphRenderer\",\"id\":\"p3122\",\"attributes\":{\"data_source\":{\"type\":\"object\",\"name\":\"ColumnDataSource\",\"id\":\"p3116\",\"attributes\":{\"selected\":{\"type\":\"object\",\"name\":\"Selection\",\"id\":\"p3117\",\"attributes\":{\"indices\":[],\"line_indices\":[]}},\"selection_policy\":{\"type\":\"object\",\"name\":\"UnionRenderers\",\"id\":\"p3118\"},\"data\":{\"type\":\"map\",\"entries\":[[\"x\",{\"type\":\"ndarray\",\"array\":{\"type\":\"bytes\",\"data\":\"AAAAAAEAAAADAAAABgAAAAkAAAANAAAADwAAABEAAAATAAAAFAAAABYAAAAYAAAAGQAAABoAAAAaAAAAGwAAABwAAAAdAAAAHAAAABsAAAAaAAAAGgAAABsAAAAcAAAAHQAAACAAAAAjAAAAJgAAACgAAAApAAAAKgAAAA==\"},\"shape\":[31],\"dtype\":\"int32\",\"order\":\"little\"}],[\"y\",{\"type\":\"ndarray\",\"array\":{\"type\":\"bytes\",\"data\":\"AAAAAAAAAAAAAAAAAAAAAAEAAAADAAAABAAAAAYAAAAHAAAABwAAAAcAAAAGAAAABQAAAAUAAAAFAAAABQAAAAUAAAAGAAAABwAAAAkAAAAKAAAADAAAAA0AAAAOAAAAEQAAABMAAAAUAAAAFAAAABMAAAASAAAAEAAAAA==\"},\"shape\":[31],\"dtype\":\"int32\",\"order\":\"little\"}]]}}},\"view\":{\"type\":\"object\",\"name\":\"CDSView\",\"id\":\"p3123\",\"attributes\":{\"filter\":{\"type\":\"object\",\"name\":\"AllIndices\",\"id\":\"p3124\"}}},\"glyph\":{\"type\":\"object\",\"name\":\"Line\",\"id\":\"p3119\",\"attributes\":{\"x\":{\"type\":\"field\",\"field\":\"x\"},\"y\":{\"type\":\"field\",\"field\":\"y\"},\"line_color\":\"red\",\"line_width\":2}},\"nonselection_glyph\":{\"type\":\"object\",\"name\":\"Line\",\"id\":\"p3120\",\"attributes\":{\"x\":{\"type\":\"field\",\"field\":\"x\"},\"y\":{\"type\":\"field\",\"field\":\"y\"},\"line_color\":\"red\",\"line_alpha\":0.1,\"line_width\":2}},\"muted_glyph\":{\"type\":\"object\",\"name\":\"Line\",\"id\":\"p3121\",\"attributes\":{\"x\":{\"type\":\"field\",\"field\":\"x\"},\"y\":{\"type\":\"field\",\"field\":\"y\"},\"line_color\":\"red\",\"line_alpha\":0.2,\"line_width\":2}}}}],\"toolbar\":{\"type\":\"object\",\"name\":\"Toolbar\",\"id\":\"p3085\",\"attributes\":{\"tools\":[{\"type\":\"object\",\"name\":\"PanTool\",\"id\":\"p3098\"},{\"type\":\"object\",\"name\":\"WheelZoomTool\",\"id\":\"p3099\"},{\"type\":\"object\",\"name\":\"BoxZoomTool\",\"id\":\"p3100\",\"attributes\":{\"overlay\":{\"type\":\"object\",\"name\":\"BoxAnnotation\",\"id\":\"p3101\",\"attributes\":{\"syncable\":false,\"level\":\"overlay\",\"visible\":false,\"left_units\":\"canvas\",\"right_units\":\"canvas\",\"bottom_units\":\"canvas\",\"top_units\":\"canvas\",\"line_color\":\"black\",\"line_alpha\":1.0,\"line_width\":2,\"line_dash\":[4,4],\"fill_color\":\"lightgrey\",\"fill_alpha\":0.5}}}},{\"type\":\"object\",\"name\":\"SaveTool\",\"id\":\"p3102\"},{\"type\":\"object\",\"name\":\"ResetTool\",\"id\":\"p3103\"},{\"type\":\"object\",\"name\":\"HelpTool\",\"id\":\"p3104\"}]}},\"left\":[{\"type\":\"object\",\"name\":\"LinearAxis\",\"id\":\"p3093\",\"attributes\":{\"ticker\":{\"type\":\"object\",\"name\":\"BasicTicker\",\"id\":\"p3094\",\"attributes\":{\"mantissas\":[1,2,5]}},\"formatter\":{\"type\":\"object\",\"name\":\"BasicTickFormatter\",\"id\":\"p3095\"},\"axis_label\":\"y Position\",\"major_label_policy\":{\"type\":\"object\",\"name\":\"AllLabels\",\"id\":\"p3096\"}}}],\"below\":[{\"type\":\"object\",\"name\":\"LinearAxis\",\"id\":\"p3088\",\"attributes\":{\"ticker\":{\"type\":\"object\",\"name\":\"BasicTicker\",\"id\":\"p3089\",\"attributes\":{\"mantissas\":[1,2,5]}},\"formatter\":{\"type\":\"object\",\"name\":\"BasicTickFormatter\",\"id\":\"p3090\"},\"axis_label\":\"x Position\",\"major_label_policy\":{\"type\":\"object\",\"name\":\"AllLabels\",\"id\":\"p3091\"}}}],\"center\":[{\"type\":\"object\",\"name\":\"Grid\",\"id\":\"p3092\",\"attributes\":{\"axis\":{\"id\":\"p3088\"}}},{\"type\":\"object\",\"name\":\"Grid\",\"id\":\"p3097\",\"attributes\":{\"dimension\":1,\"axis\":{\"id\":\"p3093\"}}},{\"type\":\"object\",\"name\":\"Legend\",\"id\":\"p3114\",\"attributes\":{\"items\":[{\"type\":\"object\",\"name\":\"LegendItem\",\"id\":\"p3115\",\"attributes\":{\"label\":{\"type\":\"value\",\"value\":\"Kalman Filter\"},\"renderers\":[{\"id\":\"p3111\"}]}},{\"type\":\"object\",\"name\":\"LegendItem\",\"id\":\"p3125\",\"attributes\":{\"label\":{\"type\":\"value\",\"value\":\"Ground Truth\"},\"renderers\":[{\"id\":\"p3122\"}]}}]}}]}}]}};\n",
       "  const render_items = [{\"docid\":\"d86c1132-e0f9-41dd-a950-391b4476b7a3\",\"roots\":{\"p3076\":\"c91cd99d-19ce-40a8-8e84-63ef59909570\"},\"root_ids\":[\"p3076\"]}];\n",
       "  root.Bokeh.embed.embed_items_notebook(docs_json, render_items);\n",
       "  }\n",
       "  if (root.Bokeh !== undefined) {\n",
       "    embed_document(root);\n",
       "  } else {\n",
       "    let attempts = 0;\n",
       "    const timer = setInterval(function(root) {\n",
       "      if (root.Bokeh !== undefined) {\n",
       "        clearInterval(timer);\n",
       "        embed_document(root);\n",
       "      } else {\n",
       "        attempts++;\n",
       "        if (attempts > 100) {\n",
       "          clearInterval(timer);\n",
       "          console.log(\"Bokeh: ERROR: Unable to run BokehJS code because BokehJS library is missing\");\n",
       "        }\n",
       "      }\n",
       "    }, 10, root)\n",
       "  }\n",
       "})(window);"
      ],
      "application/vnd.bokehjs_exec.v0+json": ""
     },
     "metadata": {
      "application/vnd.bokehjs_exec.v0+json": {
       "id": "p3076"
      }
     },
     "output_type": "display_data"
    }
   ],
   "source": [
    "p = figure(title=\"Comparison of Filter and Ground Truth\", x_axis_label='x Position', y_axis_label='y Position')\n",
    "\n",
    "# filter output\n",
    "p.line(x_hatXValues, x_hatYValues, line_width=2, legend_label=\"Kalman Filter\", color='orange')\n",
    "# ground truth\n",
    "p.line(positionGroundTruthX, positionGroundTruthY, legend_label=\"Ground Truth\", line_width=2, color='red')\n",
    "\n",
    "show(p)"
   ]
  },
  {
   "cell_type": "markdown",
   "id": "dfbf6ea5-53ee-48b5-af04-72918382bb53",
   "metadata": {},
   "source": [
    "Compare the filter to the ground truth with the sensor data"
   ]
  },
  {
   "cell_type": "code",
   "execution_count": 49,
   "id": "1afc635d-84a7-4465-bbea-236bd0bc1a93",
   "metadata": {},
   "outputs": [
    {
     "data": {
      "text/html": [
       "\n",
       "  <div id=\"e06965df-e4ad-4403-8bbb-5ab7740e65ca\" data-root-id=\"p3128\" style=\"display: contents;\"></div>\n"
      ]
     },
     "metadata": {},
     "output_type": "display_data"
    },
    {
     "data": {
      "application/javascript": [
       "(function(root) {\n",
       "  function embed_document(root) {\n",
       "  const docs_json = {\"5d152420-7b98-4e24-9122-5fd4385836d4\":{\"version\":\"3.2.2\",\"title\":\"Bokeh Application\",\"roots\":[{\"type\":\"object\",\"name\":\"Figure\",\"id\":\"p3128\",\"attributes\":{\"x_range\":{\"type\":\"object\",\"name\":\"DataRange1d\",\"id\":\"p3129\"},\"y_range\":{\"type\":\"object\",\"name\":\"DataRange1d\",\"id\":\"p3130\"},\"x_scale\":{\"type\":\"object\",\"name\":\"LinearScale\",\"id\":\"p3138\"},\"y_scale\":{\"type\":\"object\",\"name\":\"LinearScale\",\"id\":\"p3139\"},\"title\":{\"type\":\"object\",\"name\":\"Title\",\"id\":\"p3131\",\"attributes\":{\"text\":\"Comparison of Ground Truth to IMU and GNSS data\"}},\"renderers\":[{\"type\":\"object\",\"name\":\"GlyphRenderer\",\"id\":\"p3163\",\"attributes\":{\"data_source\":{\"type\":\"object\",\"name\":\"ColumnDataSource\",\"id\":\"p3157\",\"attributes\":{\"selected\":{\"type\":\"object\",\"name\":\"Selection\",\"id\":\"p3158\",\"attributes\":{\"indices\":[],\"line_indices\":[]}},\"selection_policy\":{\"type\":\"object\",\"name\":\"UnionRenderers\",\"id\":\"p3159\"},\"data\":{\"type\":\"map\",\"entries\":[[\"x\",{\"type\":\"ndarray\",\"array\":{\"type\":\"bytes\",\"data\":\"AAAAAAEAAAADAAAABgAAAAkAAAANAAAADwAAABEAAAATAAAAFAAAABYAAAAYAAAAGQAAABoAAAAaAAAAGwAAABwAAAAdAAAAHAAAABsAAAAaAAAAGgAAABsAAAAcAAAAHQAAACAAAAAjAAAAJgAAACgAAAApAAAAKgAAAA==\"},\"shape\":[31],\"dtype\":\"int32\",\"order\":\"little\"}],[\"y\",{\"type\":\"ndarray\",\"array\":{\"type\":\"bytes\",\"data\":\"AAAAAAAAAAAAAAAAAAAAAAEAAAADAAAABAAAAAYAAAAHAAAABwAAAAcAAAAGAAAABQAAAAUAAAAFAAAABQAAAAUAAAAGAAAABwAAAAkAAAAKAAAADAAAAA0AAAAOAAAAEQAAABMAAAAUAAAAFAAAABMAAAASAAAAEAAAAA==\"},\"shape\":[31],\"dtype\":\"int32\",\"order\":\"little\"}]]}}},\"view\":{\"type\":\"object\",\"name\":\"CDSView\",\"id\":\"p3164\",\"attributes\":{\"filter\":{\"type\":\"object\",\"name\":\"AllIndices\",\"id\":\"p3165\"}}},\"glyph\":{\"type\":\"object\",\"name\":\"Line\",\"id\":\"p3160\",\"attributes\":{\"x\":{\"type\":\"field\",\"field\":\"x\"},\"y\":{\"type\":\"field\",\"field\":\"y\"},\"line_color\":\"red\",\"line_width\":2}},\"nonselection_glyph\":{\"type\":\"object\",\"name\":\"Line\",\"id\":\"p3161\",\"attributes\":{\"x\":{\"type\":\"field\",\"field\":\"x\"},\"y\":{\"type\":\"field\",\"field\":\"y\"},\"line_color\":\"red\",\"line_alpha\":0.1,\"line_width\":2}},\"muted_glyph\":{\"type\":\"object\",\"name\":\"Line\",\"id\":\"p3162\",\"attributes\":{\"x\":{\"type\":\"field\",\"field\":\"x\"},\"y\":{\"type\":\"field\",\"field\":\"y\"},\"line_color\":\"red\",\"line_alpha\":0.2,\"line_width\":2}}}},{\"type\":\"object\",\"name\":\"GlyphRenderer\",\"id\":\"p3174\",\"attributes\":{\"data_source\":{\"type\":\"object\",\"name\":\"ColumnDataSource\",\"id\":\"p3168\",\"attributes\":{\"selected\":{\"type\":\"object\",\"name\":\"Selection\",\"id\":\"p3169\",\"attributes\":{\"indices\":[],\"line_indices\":[]}},\"selection_policy\":{\"type\":\"object\",\"name\":\"UnionRenderers\",\"id\":\"p3170\"},\"data\":{\"type\":\"map\",\"entries\":[[\"x\",{\"type\":\"ndarray\",\"array\":{\"type\":\"bytes\",\"data\":\"AAAAAAAAAAB+9pF9WpnvP2+29nctBQhAjyuLjh0sF0AvyPBJzRUhQMG6XuNlHSpAhKDP7tHyLEAUaKTkZK8wQG74UwqI4zJAQ5Wz14u2NEAM1FXxE+A2QGNFqNJxAThANkYMHe2pOECIhFeOb/Y5QLyPnRUMxzlAeGhVnTUXO0CAaMkfEVM8QLumH6qMbjxANZ9XquwWPEA+mliccTU7QGQRa1IhsjhA8Uz90LLSOkAcqppxaYg6QODKtGdehjxA7xH2t+lKPEAeSFafGRdAQKijk9PLpUFAiXzhxtXcQ0Bo4cx/WRZEQOW9w17N10RAUwrAh88eREA=\"},\"shape\":[31],\"dtype\":\"float64\",\"order\":\"little\"}],[\"y\",{\"type\":\"ndarray\",\"array\":{\"type\":\"bytes\",\"data\":\"AAAAAAAAAAAAAAAAAAAAAAAAAAAAAAAAAAAAAAAAAABTc9cA6WLvP4zeJOkcBwlACRtv92jlDkDeFXof0bIWQPLDkPz+QxtA4iA5H6qQHECmkkT8CXobQO7Vr5X40BhAEOrjWzNjFEBob3XRS3EUQHfXgVbnrhRAO9bQVkD+FEDTc7L6sU4UQPFpK50RIxdA8thCX7K3HUDuahSn93whQDduVP7nYCRAKsqwWk1IJ0BtosDYzj0pQMSLetnb6ipAPRZuJvs3MUB6IE4b5AgyQDBWaQtOBjNAV/wAhR/6MkBgzF9523gyQKfTiAae9zFAk5L70VuCMEA=\"},\"shape\":[31],\"dtype\":\"float64\",\"order\":\"little\"}]]}}},\"view\":{\"type\":\"object\",\"name\":\"CDSView\",\"id\":\"p3175\",\"attributes\":{\"filter\":{\"type\":\"object\",\"name\":\"AllIndices\",\"id\":\"p3176\"}}},\"glyph\":{\"type\":\"object\",\"name\":\"Line\",\"id\":\"p3171\",\"attributes\":{\"x\":{\"type\":\"field\",\"field\":\"x\"},\"y\":{\"type\":\"field\",\"field\":\"y\"},\"line_color\":\"blue\",\"line_width\":2}},\"nonselection_glyph\":{\"type\":\"object\",\"name\":\"Line\",\"id\":\"p3172\",\"attributes\":{\"x\":{\"type\":\"field\",\"field\":\"x\"},\"y\":{\"type\":\"field\",\"field\":\"y\"},\"line_color\":\"blue\",\"line_alpha\":0.1,\"line_width\":2}},\"muted_glyph\":{\"type\":\"object\",\"name\":\"Line\",\"id\":\"p3173\",\"attributes\":{\"x\":{\"type\":\"field\",\"field\":\"x\"},\"y\":{\"type\":\"field\",\"field\":\"y\"},\"line_color\":\"blue\",\"line_alpha\":0.2,\"line_width\":2}}}},{\"type\":\"object\",\"name\":\"GlyphRenderer\",\"id\":\"p3184\",\"attributes\":{\"data_source\":{\"type\":\"object\",\"name\":\"ColumnDataSource\",\"id\":\"p3178\",\"attributes\":{\"selected\":{\"type\":\"object\",\"name\":\"Selection\",\"id\":\"p3179\",\"attributes\":{\"indices\":[],\"line_indices\":[]}},\"selection_policy\":{\"type\":\"object\",\"name\":\"UnionRenderers\",\"id\":\"p3180\"},\"data\":{\"type\":\"map\",\"entries\":[[\"x\",{\"type\":\"ndarray\",\"array\":{\"type\":\"bytes\",\"data\":\"AAAAAAAAAADH+A3RVdPvP2QL+aadPghAKh0ywrV/GEBbVZ2nUNkhQE6+mX914ilALDek49xmLEAoS2cN4kIwQLgsHhUR0zJA5Qhhm+0qNUCnGmFeKys1QPcLlJnYsjdAh0jxcEGYOECDUS6KL8M5QOqL4TQM2zpAoJFSodOpOUBQ8mb9KWs8QH4GSgOSYDxA55LJIKB7PEC3wche8F08QH/mEd7cpTpAMObQ23DlO0B4qC5kt8M6QEhfT4i0HDxAFp9VNLAkPEDgsho1VZBAQH+E0cGAp0BAGPSQzIekQkBob6KPt/xDQGRQxJIXhURAlcWCn4TsREA=\"},\"shape\":[31],\"dtype\":\"float64\",\"order\":\"little\"}],[\"y\",{\"type\":\"ndarray\",\"array\":{\"type\":\"bytes\",\"data\":\"AAAAAAAAAAAAAAAAAAAAAAAAAAAAAAAAAAAAAAAAAABaPPTc8IfuPy7DBfv5pgdAknlf5JDzDkA6kglf0fIXQBJExcl0zxtAC23g+u9uGkB2w+Jyvr8aQJNkerQMPRdAS62+kHBUFUAJATNzusMTQJ5pSxzc5xNAvH9cOOjSE0Ct0aUKCIgTQEpsiOdY/BhAOXBZjZHYHEDFkD/8tiMiQL638jQ5YiNAnX/ljDKkJ0BnvCJpnVspQELMycr9vCtAuheoAHDZMED+5CmXOeoyQOiUkQf/pzNAmf0wR9XCM0DEguVwo+oyQMrcPrBAyjFAPvCNILxfMEA=\"},\"shape\":[31],\"dtype\":\"float64\",\"order\":\"little\"}]]}}},\"view\":{\"type\":\"object\",\"name\":\"CDSView\",\"id\":\"p3185\",\"attributes\":{\"filter\":{\"type\":\"object\",\"name\":\"AllIndices\",\"id\":\"p3186\"}}},\"glyph\":{\"type\":\"object\",\"name\":\"Line\",\"id\":\"p3181\",\"attributes\":{\"x\":{\"type\":\"field\",\"field\":\"x\"},\"y\":{\"type\":\"field\",\"field\":\"y\"},\"line_color\":\"green\",\"line_width\":2}},\"nonselection_glyph\":{\"type\":\"object\",\"name\":\"Line\",\"id\":\"p3182\",\"attributes\":{\"x\":{\"type\":\"field\",\"field\":\"x\"},\"y\":{\"type\":\"field\",\"field\":\"y\"},\"line_color\":\"green\",\"line_alpha\":0.1,\"line_width\":2}},\"muted_glyph\":{\"type\":\"object\",\"name\":\"Line\",\"id\":\"p3183\",\"attributes\":{\"x\":{\"type\":\"field\",\"field\":\"x\"},\"y\":{\"type\":\"field\",\"field\":\"y\"},\"line_color\":\"green\",\"line_alpha\":0.2,\"line_width\":2}}}},{\"type\":\"object\",\"name\":\"GlyphRenderer\",\"id\":\"p3194\",\"attributes\":{\"data_source\":{\"type\":\"object\",\"name\":\"ColumnDataSource\",\"id\":\"p3188\",\"attributes\":{\"selected\":{\"type\":\"object\",\"name\":\"Selection\",\"id\":\"p3189\",\"attributes\":{\"indices\":[],\"line_indices\":[]}},\"selection_policy\":{\"type\":\"object\",\"name\":\"UnionRenderers\",\"id\":\"p3190\"},\"data\":{\"type\":\"map\",\"entries\":[[\"x\",[0,0.0,0.9909989217828908,3.006611077675978,5.928773747343947,8.674138184304866,12.91298981921863,14.208308974509254,16.330951121862306,18.693140541873138,20.753240773549386,21.814216852601852,23.633751794790996,24.392679989011704,25.618358946051217,26.06014738466576,26.11616102135745,28.110102042900145,28.123148672984705,28.004718885011705,27.50753464629947,25.39653187445121,27.105410805921004,26.377370130158727,28.054449611306843,27.93714734689717,32.37433966237468,33.9778666472769,38.16517378764848,39.69243040716502,40.965534440830304,40.63419114203971]],[\"y\",[0,0.0,0.0,0.0,0.0,0.9674494954611648,3.0327974766380237,3.8351063329143713,5.792467351322255,6.826505227986303,6.8064725278840275,6.710082503022674,5.939685804918847,5.155219719392314,4.974288921793498,5.02382184837994,5.051839405063074,4.929279307317163,5.9659874334592935,7.260709573803556,8.834220753143612,9.8521156079094,11.632319188181324,12.533378505930242,13.538447005026358,16.89846718034188,18.30566821771485,19.15718352499141,19.17729154956418,18.50236972130363,17.693451666100984,16.26449179264285]]]}}},\"view\":{\"type\":\"object\",\"name\":\"CDSView\",\"id\":\"p3195\",\"attributes\":{\"filter\":{\"type\":\"object\",\"name\":\"AllIndices\",\"id\":\"p3196\"}}},\"glyph\":{\"type\":\"object\",\"name\":\"Line\",\"id\":\"p3191\",\"attributes\":{\"x\":{\"type\":\"field\",\"field\":\"x\"},\"y\":{\"type\":\"field\",\"field\":\"y\"},\"line_color\":\"orange\",\"line_width\":2}},\"nonselection_glyph\":{\"type\":\"object\",\"name\":\"Line\",\"id\":\"p3192\",\"attributes\":{\"x\":{\"type\":\"field\",\"field\":\"x\"},\"y\":{\"type\":\"field\",\"field\":\"y\"},\"line_color\":\"orange\",\"line_alpha\":0.1,\"line_width\":2}},\"muted_glyph\":{\"type\":\"object\",\"name\":\"Line\",\"id\":\"p3193\",\"attributes\":{\"x\":{\"type\":\"field\",\"field\":\"x\"},\"y\":{\"type\":\"field\",\"field\":\"y\"},\"line_color\":\"orange\",\"line_alpha\":0.2,\"line_width\":2}}}}],\"toolbar\":{\"type\":\"object\",\"name\":\"Toolbar\",\"id\":\"p3137\",\"attributes\":{\"tools\":[{\"type\":\"object\",\"name\":\"PanTool\",\"id\":\"p3150\"},{\"type\":\"object\",\"name\":\"WheelZoomTool\",\"id\":\"p3151\"},{\"type\":\"object\",\"name\":\"BoxZoomTool\",\"id\":\"p3152\",\"attributes\":{\"overlay\":{\"type\":\"object\",\"name\":\"BoxAnnotation\",\"id\":\"p3153\",\"attributes\":{\"syncable\":false,\"level\":\"overlay\",\"visible\":false,\"left_units\":\"canvas\",\"right_units\":\"canvas\",\"bottom_units\":\"canvas\",\"top_units\":\"canvas\",\"line_color\":\"black\",\"line_alpha\":1.0,\"line_width\":2,\"line_dash\":[4,4],\"fill_color\":\"lightgrey\",\"fill_alpha\":0.5}}}},{\"type\":\"object\",\"name\":\"SaveTool\",\"id\":\"p3154\"},{\"type\":\"object\",\"name\":\"ResetTool\",\"id\":\"p3155\"},{\"type\":\"object\",\"name\":\"HelpTool\",\"id\":\"p3156\"}]}},\"left\":[{\"type\":\"object\",\"name\":\"LinearAxis\",\"id\":\"p3145\",\"attributes\":{\"ticker\":{\"type\":\"object\",\"name\":\"BasicTicker\",\"id\":\"p3146\",\"attributes\":{\"mantissas\":[1,2,5]}},\"formatter\":{\"type\":\"object\",\"name\":\"BasicTickFormatter\",\"id\":\"p3147\"},\"axis_label\":\"y Position\",\"major_label_policy\":{\"type\":\"object\",\"name\":\"AllLabels\",\"id\":\"p3148\"}}}],\"below\":[{\"type\":\"object\",\"name\":\"LinearAxis\",\"id\":\"p3140\",\"attributes\":{\"ticker\":{\"type\":\"object\",\"name\":\"BasicTicker\",\"id\":\"p3141\",\"attributes\":{\"mantissas\":[1,2,5]}},\"formatter\":{\"type\":\"object\",\"name\":\"BasicTickFormatter\",\"id\":\"p3142\"},\"axis_label\":\"x Position\",\"major_label_policy\":{\"type\":\"object\",\"name\":\"AllLabels\",\"id\":\"p3143\"}}}],\"center\":[{\"type\":\"object\",\"name\":\"Grid\",\"id\":\"p3144\",\"attributes\":{\"axis\":{\"id\":\"p3140\"}}},{\"type\":\"object\",\"name\":\"Grid\",\"id\":\"p3149\",\"attributes\":{\"dimension\":1,\"axis\":{\"id\":\"p3145\"}}},{\"type\":\"object\",\"name\":\"Legend\",\"id\":\"p3166\",\"attributes\":{\"items\":[{\"type\":\"object\",\"name\":\"LegendItem\",\"id\":\"p3167\",\"attributes\":{\"label\":{\"type\":\"value\",\"value\":\"Ground Truth\"},\"renderers\":[{\"id\":\"p3163\"}]}},{\"type\":\"object\",\"name\":\"LegendItem\",\"id\":\"p3177\",\"attributes\":{\"label\":{\"type\":\"value\",\"value\":\"IMU\"},\"renderers\":[{\"id\":\"p3174\"}]}},{\"type\":\"object\",\"name\":\"LegendItem\",\"id\":\"p3187\",\"attributes\":{\"label\":{\"type\":\"value\",\"value\":\"GNSS\"},\"renderers\":[{\"id\":\"p3184\"}]}},{\"type\":\"object\",\"name\":\"LegendItem\",\"id\":\"p3197\",\"attributes\":{\"label\":{\"type\":\"value\",\"value\":\"Kalman Filter\"},\"renderers\":[{\"id\":\"p3194\"}]}}]}}]}}]}};\n",
       "  const render_items = [{\"docid\":\"5d152420-7b98-4e24-9122-5fd4385836d4\",\"roots\":{\"p3128\":\"e06965df-e4ad-4403-8bbb-5ab7740e65ca\"},\"root_ids\":[\"p3128\"]}];\n",
       "  root.Bokeh.embed.embed_items_notebook(docs_json, render_items);\n",
       "  }\n",
       "  if (root.Bokeh !== undefined) {\n",
       "    embed_document(root);\n",
       "  } else {\n",
       "    let attempts = 0;\n",
       "    const timer = setInterval(function(root) {\n",
       "      if (root.Bokeh !== undefined) {\n",
       "        clearInterval(timer);\n",
       "        embed_document(root);\n",
       "      } else {\n",
       "        attempts++;\n",
       "        if (attempts > 100) {\n",
       "          clearInterval(timer);\n",
       "          console.log(\"Bokeh: ERROR: Unable to run BokehJS code because BokehJS library is missing\");\n",
       "        }\n",
       "      }\n",
       "    }, 10, root)\n",
       "  }\n",
       "})(window);"
      ],
      "application/vnd.bokehjs_exec.v0+json": ""
     },
     "metadata": {
      "application/vnd.bokehjs_exec.v0+json": {
       "id": "p3128"
      }
     },
     "output_type": "display_data"
    }
   ],
   "source": [
    "p = figure(title=\"Comparison of Ground Truth to IMU and GNSS data\", x_axis_label='x Position', y_axis_label='y Position')\n",
    "\n",
    "# ground Truth\n",
    "p.line(positionGroundTruthX, positionGroundTruthY, legend_label='Ground Truth', line_width=2, color='red')\n",
    "p.line(positionIMUX, positionIMUY, legend_label='IMU', line_width=2, color='blue')\n",
    "p.line(positionGNSSX, positionGNSSY, legend_label='GNSS', line_width=2, color='green')\n",
    "p.line(x_hatXValues, x_hatYValues, line_width=2, legend_label=\"Kalman Filter\", color='orange')\n",
    "\n",
    "show(p)"
   ]
  },
  {
   "cell_type": "markdown",
   "id": "b74b3876-05e0-41f8-bbca-cd1d55dc4764",
   "metadata": {},
   "source": [
    "<h2>Understanding the Parameters</h2>"
   ]
  },
  {
   "cell_type": "code",
   "execution_count": null,
   "id": "00af5d8e-6798-45ff-a394-52fc325ba325",
   "metadata": {},
   "outputs": [],
   "source": []
  }
 ],
 "metadata": {
  "kernelspec": {
   "display_name": "Python 3 (ipykernel)",
   "language": "python",
   "name": "python3"
  },
  "language_info": {
   "codemirror_mode": {
    "name": "ipython",
    "version": 3
   },
   "file_extension": ".py",
   "mimetype": "text/x-python",
   "name": "python",
   "nbconvert_exporter": "python",
   "pygments_lexer": "ipython3",
   "version": "3.9.13"
  }
 },
 "nbformat": 4,
 "nbformat_minor": 5
}
